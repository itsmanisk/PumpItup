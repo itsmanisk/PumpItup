{
 "cells": [
  {
   "cell_type": "markdown",
   "metadata": {},
   "source": [
    "# Import libraries"
   ]
  },
  {
   "cell_type": "code",
   "execution_count": 2,
   "metadata": {},
   "outputs": [],
   "source": [
    "import pandas as pd\n",
    "import numpy as np\n",
    "from datetime import datetime\n",
    "import keras\n",
    "from keras import models\n",
    "from keras import layers\n",
    "from tensorflow.keras.models import Sequential\n",
    "from keras.layers import Dense, Dropout, Activation"
   ]
  },
  {
   "cell_type": "markdown",
   "metadata": {},
   "source": [
    "# Read training data "
   ]
  },
  {
   "cell_type": "code",
   "execution_count": 3,
   "metadata": {},
   "outputs": [],
   "source": [
    "train_values = pd.read_csv(\"Train_values.csv\")\n",
    "train_labels=pd.read_csv(\"Train_labels.csv\")"
   ]
  },
  {
   "cell_type": "markdown",
   "metadata": {},
   "source": [
    "# Merge labels with training data"
   ]
  },
  {
   "cell_type": "code",
   "execution_count": 4,
   "metadata": {},
   "outputs": [],
   "source": [
    "train=train_values.merge(train_labels,on='id',how='inner')"
   ]
  },
  {
   "cell_type": "markdown",
   "metadata": {},
   "source": [
    "# Read test data "
   ]
  },
  {
   "cell_type": "code",
   "execution_count": 5,
   "metadata": {},
   "outputs": [],
   "source": [
    "test=pd.read_csv('Test_values.csv')\n",
    "test_copy=test.copy()"
   ]
  },
  {
   "cell_type": "code",
   "execution_count": null,
   "metadata": {},
   "outputs": [],
   "source": []
  },
  {
   "cell_type": "code",
   "execution_count": 6,
   "metadata": {},
   "outputs": [
    {
     "data": {
      "text/html": [
       "<div>\n",
       "<style scoped>\n",
       "    .dataframe tbody tr th:only-of-type {\n",
       "        vertical-align: middle;\n",
       "    }\n",
       "\n",
       "    .dataframe tbody tr th {\n",
       "        vertical-align: top;\n",
       "    }\n",
       "\n",
       "    .dataframe thead th {\n",
       "        text-align: right;\n",
       "    }\n",
       "</style>\n",
       "<table border=\"1\" class=\"dataframe\">\n",
       "  <thead>\n",
       "    <tr style=\"text-align: right;\">\n",
       "      <th></th>\n",
       "      <th>id</th>\n",
       "      <th>amount_tsh</th>\n",
       "      <th>gps_height</th>\n",
       "      <th>longitude</th>\n",
       "      <th>latitude</th>\n",
       "      <th>num_private</th>\n",
       "      <th>region_code</th>\n",
       "      <th>district_code</th>\n",
       "      <th>population</th>\n",
       "      <th>construction_year</th>\n",
       "    </tr>\n",
       "  </thead>\n",
       "  <tbody>\n",
       "    <tr>\n",
       "      <th>count</th>\n",
       "      <td>59400.000000</td>\n",
       "      <td>59400.000000</td>\n",
       "      <td>59400.000000</td>\n",
       "      <td>59400.000000</td>\n",
       "      <td>5.940000e+04</td>\n",
       "      <td>59400.000000</td>\n",
       "      <td>59400.000000</td>\n",
       "      <td>59400.000000</td>\n",
       "      <td>59400.000000</td>\n",
       "      <td>59400.000000</td>\n",
       "    </tr>\n",
       "    <tr>\n",
       "      <th>mean</th>\n",
       "      <td>37115.131768</td>\n",
       "      <td>317.650385</td>\n",
       "      <td>668.297239</td>\n",
       "      <td>34.077427</td>\n",
       "      <td>-5.706033e+00</td>\n",
       "      <td>0.474141</td>\n",
       "      <td>15.297003</td>\n",
       "      <td>5.629747</td>\n",
       "      <td>179.909983</td>\n",
       "      <td>1300.652475</td>\n",
       "    </tr>\n",
       "    <tr>\n",
       "      <th>std</th>\n",
       "      <td>21453.128371</td>\n",
       "      <td>2997.574558</td>\n",
       "      <td>693.116350</td>\n",
       "      <td>6.567432</td>\n",
       "      <td>2.946019e+00</td>\n",
       "      <td>12.236230</td>\n",
       "      <td>17.587406</td>\n",
       "      <td>9.633649</td>\n",
       "      <td>471.482176</td>\n",
       "      <td>951.620547</td>\n",
       "    </tr>\n",
       "    <tr>\n",
       "      <th>min</th>\n",
       "      <td>0.000000</td>\n",
       "      <td>0.000000</td>\n",
       "      <td>-90.000000</td>\n",
       "      <td>0.000000</td>\n",
       "      <td>-1.164944e+01</td>\n",
       "      <td>0.000000</td>\n",
       "      <td>1.000000</td>\n",
       "      <td>0.000000</td>\n",
       "      <td>0.000000</td>\n",
       "      <td>0.000000</td>\n",
       "    </tr>\n",
       "    <tr>\n",
       "      <th>25%</th>\n",
       "      <td>18519.750000</td>\n",
       "      <td>0.000000</td>\n",
       "      <td>0.000000</td>\n",
       "      <td>33.090347</td>\n",
       "      <td>-8.540621e+00</td>\n",
       "      <td>0.000000</td>\n",
       "      <td>5.000000</td>\n",
       "      <td>2.000000</td>\n",
       "      <td>0.000000</td>\n",
       "      <td>0.000000</td>\n",
       "    </tr>\n",
       "    <tr>\n",
       "      <th>50%</th>\n",
       "      <td>37061.500000</td>\n",
       "      <td>0.000000</td>\n",
       "      <td>369.000000</td>\n",
       "      <td>34.908743</td>\n",
       "      <td>-5.021597e+00</td>\n",
       "      <td>0.000000</td>\n",
       "      <td>12.000000</td>\n",
       "      <td>3.000000</td>\n",
       "      <td>25.000000</td>\n",
       "      <td>1986.000000</td>\n",
       "    </tr>\n",
       "    <tr>\n",
       "      <th>75%</th>\n",
       "      <td>55656.500000</td>\n",
       "      <td>20.000000</td>\n",
       "      <td>1319.250000</td>\n",
       "      <td>37.178387</td>\n",
       "      <td>-3.326156e+00</td>\n",
       "      <td>0.000000</td>\n",
       "      <td>17.000000</td>\n",
       "      <td>5.000000</td>\n",
       "      <td>215.000000</td>\n",
       "      <td>2004.000000</td>\n",
       "    </tr>\n",
       "    <tr>\n",
       "      <th>max</th>\n",
       "      <td>74247.000000</td>\n",
       "      <td>350000.000000</td>\n",
       "      <td>2770.000000</td>\n",
       "      <td>40.345193</td>\n",
       "      <td>-2.000000e-08</td>\n",
       "      <td>1776.000000</td>\n",
       "      <td>99.000000</td>\n",
       "      <td>80.000000</td>\n",
       "      <td>30500.000000</td>\n",
       "      <td>2013.000000</td>\n",
       "    </tr>\n",
       "  </tbody>\n",
       "</table>\n",
       "</div>"
      ],
      "text/plain": [
       "                 id     amount_tsh    gps_height     longitude      latitude  \\\n",
       "count  59400.000000   59400.000000  59400.000000  59400.000000  5.940000e+04   \n",
       "mean   37115.131768     317.650385    668.297239     34.077427 -5.706033e+00   \n",
       "std    21453.128371    2997.574558    693.116350      6.567432  2.946019e+00   \n",
       "min        0.000000       0.000000    -90.000000      0.000000 -1.164944e+01   \n",
       "25%    18519.750000       0.000000      0.000000     33.090347 -8.540621e+00   \n",
       "50%    37061.500000       0.000000    369.000000     34.908743 -5.021597e+00   \n",
       "75%    55656.500000      20.000000   1319.250000     37.178387 -3.326156e+00   \n",
       "max    74247.000000  350000.000000   2770.000000     40.345193 -2.000000e-08   \n",
       "\n",
       "        num_private   region_code  district_code    population  \\\n",
       "count  59400.000000  59400.000000   59400.000000  59400.000000   \n",
       "mean       0.474141     15.297003       5.629747    179.909983   \n",
       "std       12.236230     17.587406       9.633649    471.482176   \n",
       "min        0.000000      1.000000       0.000000      0.000000   \n",
       "25%        0.000000      5.000000       2.000000      0.000000   \n",
       "50%        0.000000     12.000000       3.000000     25.000000   \n",
       "75%        0.000000     17.000000       5.000000    215.000000   \n",
       "max     1776.000000     99.000000      80.000000  30500.000000   \n",
       "\n",
       "       construction_year  \n",
       "count       59400.000000  \n",
       "mean         1300.652475  \n",
       "std           951.620547  \n",
       "min             0.000000  \n",
       "25%             0.000000  \n",
       "50%          1986.000000  \n",
       "75%          2004.000000  \n",
       "max          2013.000000  "
      ]
     },
     "execution_count": 6,
     "metadata": {},
     "output_type": "execute_result"
    }
   ],
   "source": [
    "train.describe()"
   ]
  },
  {
   "cell_type": "code",
   "execution_count": null,
   "metadata": {},
   "outputs": [],
   "source": []
  },
  {
   "cell_type": "markdown",
   "metadata": {},
   "source": [
    "# Find non-null values"
   ]
  },
  {
   "cell_type": "code",
   "execution_count": 7,
   "metadata": {},
   "outputs": [
    {
     "name": "stdout",
     "output_type": "stream",
     "text": [
      "<class 'pandas.core.frame.DataFrame'>\n",
      "Int64Index: 59400 entries, 0 to 59399\n",
      "Data columns (total 41 columns):\n",
      "id                       59400 non-null int64\n",
      "amount_tsh               59400 non-null float64\n",
      "date_recorded            59400 non-null object\n",
      "funder                   55765 non-null object\n",
      "gps_height               59400 non-null int64\n",
      "installer                55745 non-null object\n",
      "longitude                59400 non-null float64\n",
      "latitude                 59400 non-null float64\n",
      "wpt_name                 59400 non-null object\n",
      "num_private              59400 non-null int64\n",
      "basin                    59400 non-null object\n",
      "subvillage               59029 non-null object\n",
      "region                   59400 non-null object\n",
      "region_code              59400 non-null int64\n",
      "district_code            59400 non-null int64\n",
      "lga                      59400 non-null object\n",
      "ward                     59400 non-null object\n",
      "population               59400 non-null int64\n",
      "public_meeting           56066 non-null object\n",
      "recorded_by              59400 non-null object\n",
      "scheme_management        55523 non-null object\n",
      "scheme_name              31234 non-null object\n",
      "permit                   56344 non-null object\n",
      "construction_year        59400 non-null int64\n",
      "extraction_type          59400 non-null object\n",
      "extraction_type_group    59400 non-null object\n",
      "extraction_type_class    59400 non-null object\n",
      "management               59400 non-null object\n",
      "management_group         59400 non-null object\n",
      "payment                  59400 non-null object\n",
      "payment_type             59400 non-null object\n",
      "water_quality            59400 non-null object\n",
      "quality_group            59400 non-null object\n",
      "quantity                 59400 non-null object\n",
      "quantity_group           59400 non-null object\n",
      "source                   59400 non-null object\n",
      "source_type              59400 non-null object\n",
      "source_class             59400 non-null object\n",
      "waterpoint_type          59400 non-null object\n",
      "waterpoint_type_group    59400 non-null object\n",
      "status_group             59400 non-null object\n",
      "dtypes: float64(3), int64(7), object(31)\n",
      "memory usage: 19.0+ MB\n"
     ]
    }
   ],
   "source": [
    "train.info()"
   ]
  },
  {
   "cell_type": "markdown",
   "metadata": {},
   "source": [
    "# convert status group label into numerical data"
   ]
  },
  {
   "cell_type": "code",
   "execution_count": 8,
   "metadata": {},
   "outputs": [],
   "source": [
    "val_status_group={'functional':0, 'functional needs repair':2,\n",
    "                  'non functional':1}\n",
    "train['status_group_vals']=train.status_group.replace(val_status_group)"
   ]
  },
  {
   "cell_type": "code",
   "execution_count": 9,
   "metadata": {},
   "outputs": [
    {
     "data": {
      "text/plain": [
       "0        0\n",
       "1        0\n",
       "2        0\n",
       "3        1\n",
       "4        0\n",
       "5        0\n",
       "6        1\n",
       "7        1\n",
       "8        1\n",
       "9        0\n",
       "10       0\n",
       "11       0\n",
       "12       0\n",
       "13       0\n",
       "14       0\n",
       "15       0\n",
       "16       1\n",
       "17       1\n",
       "18       2\n",
       "19       0\n",
       "20       0\n",
       "21       0\n",
       "22       2\n",
       "23       0\n",
       "24       0\n",
       "25       2\n",
       "26       0\n",
       "27       0\n",
       "28       1\n",
       "29       0\n",
       "        ..\n",
       "59370    0\n",
       "59371    1\n",
       "59372    1\n",
       "59373    0\n",
       "59374    0\n",
       "59375    0\n",
       "59376    1\n",
       "59377    1\n",
       "59378    0\n",
       "59379    0\n",
       "59380    1\n",
       "59381    1\n",
       "59382    1\n",
       "59383    0\n",
       "59384    1\n",
       "59385    0\n",
       "59386    0\n",
       "59387    0\n",
       "59388    0\n",
       "59389    0\n",
       "59390    0\n",
       "59391    1\n",
       "59392    1\n",
       "59393    0\n",
       "59394    1\n",
       "59395    0\n",
       "59396    0\n",
       "59397    0\n",
       "59398    0\n",
       "59399    0\n",
       "Name: status_group_vals, Length: 59400, dtype: int64"
      ]
     },
     "execution_count": 9,
     "metadata": {},
     "output_type": "execute_result"
    }
   ],
   "source": [
    "train.status_group_vals"
   ]
  },
  {
   "cell_type": "markdown",
   "metadata": {},
   "source": [
    "# Lets focus on those feature one by one having null values"
   ]
  },
  {
   "cell_type": "code",
   "execution_count": 10,
   "metadata": {},
   "outputs": [
    {
     "data": {
      "text/plain": [
       "Government Of Tanzania        9084\n",
       "Danida                        3114\n",
       "Hesawa                        2202\n",
       "Rwssp                         1374\n",
       "World Bank                    1349\n",
       "Kkkt                          1287\n",
       "World Vision                  1246\n",
       "Unicef                        1057\n",
       "Tasaf                          877\n",
       "District Council               843\n",
       "Dhv                            829\n",
       "Private Individual             826\n",
       "Dwsp                           811\n",
       "0                              777\n",
       "Norad                          765\n",
       "Germany Republi                610\n",
       "Tcrs                           602\n",
       "Ministry Of Water              590\n",
       "Water                          583\n",
       "Dwe                            484\n",
       "Netherlands                    470\n",
       "Hifab                          450\n",
       "Adb                            448\n",
       "Lga                            442\n",
       "Amref                          425\n",
       "Fini Water                     393\n",
       "Oxfam                          359\n",
       "Wateraid                       333\n",
       "Rc Church                      321\n",
       "Isf                            316\n",
       "                              ... \n",
       "Ldcdd                            1\n",
       "Kuji Foundation                  1\n",
       "Juma                             1\n",
       "Goldwill Foundation              1\n",
       "Said Salum Ally                  1\n",
       "Japan Food Aid                   1\n",
       "Muslimehefen International       1\n",
       "Comune Di Roma                   1\n",
       "Mwalimu Muhenza                  1\n",
       "Padri K                          1\n",
       "Taipo                            1\n",
       "Muhindi                          1\n",
       "Tasad                            1\n",
       "Madra                            1\n",
       "Wamissionari Wa Kikatoriki       1\n",
       "Rc/dwe                           1\n",
       "Mrtc                             1\n",
       "Jumanne                          1\n",
       "Eastmeru Medium School           1\n",
       "Elca                             1\n",
       "Tina/africare                    1\n",
       "H4ccp                            1\n",
       "Kikundi Cha Akina Mama           1\n",
       "Subvillage                       1\n",
       "Mwakalinga                       1\n",
       "Government And Community         1\n",
       "Mtambo                           1\n",
       "Qwekwin                          1\n",
       "Duka                             1\n",
       "Siss M. Minghetti                1\n",
       "Name: funder, Length: 1897, dtype: int64"
      ]
     },
     "execution_count": 10,
     "metadata": {},
     "output_type": "execute_result"
    }
   ],
   "source": [
    "#funder\n",
    "train['funder'].value_counts()"
   ]
  },
  {
   "cell_type": "code",
   "execution_count": 11,
   "metadata": {},
   "outputs": [],
   "source": [
    "#Lets divide funder column into 5 categories, top 5 will be remained as it is and after that they will be categorised into other\n",
    "def funder_cleaning(train):\n",
    "    if train['funder']=='Government Of Tanzania':\n",
    "        return 'government'\n",
    "    elif train['funder']=='Danida':\n",
    "        return 'danida'\n",
    "    elif train['funder']=='Hesawa':\n",
    "        return 'hesawa'\n",
    "    elif train['funder']=='Rwssp':\n",
    "        return 'rwssp'\n",
    "    elif train['funder']=='World Bank':\n",
    "        return 'world_bank'    \n",
    "    else:\n",
    "        return 'other'\n",
    "    \n",
    "train['funder']= train.apply(lambda row: funder_cleaning(row), axis=1)\n",
    "test['funder']= test.apply(lambda row: funder_cleaning(row), axis=1)"
   ]
  },
  {
   "cell_type": "code",
   "execution_count": 12,
   "metadata": {},
   "outputs": [
    {
     "data": {
      "text/plain": [
       "DWE                         17402\n",
       "Government                   1825\n",
       "RWE                          1206\n",
       "Commu                        1060\n",
       "DANIDA                       1050\n",
       "KKKT                          898\n",
       "Hesawa                        840\n",
       "0                             777\n",
       "TCRS                          707\n",
       "Central government            622\n",
       "CES                           610\n",
       "Community                     553\n",
       "DANID                         552\n",
       "District Council              551\n",
       "HESAWA                        539\n",
       "World vision                  408\n",
       "LGA                           408\n",
       "WEDECO                        397\n",
       "TASAF                         396\n",
       "District council              392\n",
       "Gover                         383\n",
       "AMREF                         329\n",
       "TWESA                         316\n",
       "WU                            301\n",
       "Dmdd                          287\n",
       "ACRA                          278\n",
       "World Vision                  270\n",
       "SEMA                          249\n",
       "DW                            246\n",
       "OXFAM                         234\n",
       "                            ...  \n",
       "Misana george                   1\n",
       "Mbozi Hospital                  1\n",
       "VILLAGE WATER COMMISSION        1\n",
       "TAIPO                           1\n",
       "Zuber Mihungo                   1\n",
       "Deus Ndege                      1\n",
       "Brad                            1\n",
       "Mu                              1\n",
       "Government/TCRS                 1\n",
       "Jacks                           1\n",
       "JUINE CO                        1\n",
       "MasjId Takuar                   1\n",
       "Prima                           1\n",
       "Pet  Corporation  Ltd           1\n",
       "Ox                              1\n",
       "TCRS/TWESA                      1\n",
       "TECH SUPPORT BEST CO            1\n",
       "Sumry                           1\n",
       "maendeleo ya jamii              1\n",
       "LC                              1\n",
       "Morrovian                       1\n",
       "Halimashauli                    1\n",
       "TMN                             1\n",
       "Hemed Abdallah                  1\n",
       "Marumbo Community               1\n",
       "Altai Co. ltd                   1\n",
       "Region Water Department         1\n",
       "GACHUMA CONSTRUCTION            1\n",
       "Mambe                           1\n",
       "JANDU                           1\n",
       "Name: installer, Length: 2145, dtype: int64"
      ]
     },
     "execution_count": 12,
     "metadata": {},
     "output_type": "execute_result"
    }
   ],
   "source": [
    "#Lets focus on each field one by one\n",
    "#installer\n",
    "train['installer'].value_counts()"
   ]
  },
  {
   "cell_type": "code",
   "execution_count": 13,
   "metadata": {},
   "outputs": [],
   "source": [
    "#Lets divide installer column into 5 categories, top 5 will be remained as it is and after that they will be categorised into other\n",
    "def installer_cleaning(train):\n",
    "    if train['installer']=='DWE':\n",
    "        return 'dwe'\n",
    "    elif train['installer']=='Government':\n",
    "        return 'government'\n",
    "    elif train['installer']=='RWE':\n",
    "        return 'rwe'\n",
    "    elif train['installer']=='Commu':\n",
    "        return 'commu'\n",
    "    elif train['installer']=='DANIDA':\n",
    "        return 'danida'    \n",
    "    else:\n",
    "        return 'other'\n",
    "    \n",
    "train['installer']= train.apply(lambda row: installer_cleaning(row), axis=1)\n",
    "test['installer']= test.apply(lambda row: installer_cleaning(row), axis=1)"
   ]
  },
  {
   "cell_type": "code",
   "execution_count": 14,
   "metadata": {},
   "outputs": [
    {
     "data": {
      "text/plain": [
       "id                           0\n",
       "amount_tsh                   0\n",
       "date_recorded                0\n",
       "funder                       0\n",
       "gps_height                   0\n",
       "installer                    0\n",
       "longitude                    0\n",
       "latitude                     0\n",
       "wpt_name                     0\n",
       "num_private                  0\n",
       "basin                        0\n",
       "subvillage                 371\n",
       "region                       0\n",
       "region_code                  0\n",
       "district_code                0\n",
       "lga                          0\n",
       "ward                         0\n",
       "population                   0\n",
       "public_meeting            3334\n",
       "recorded_by                  0\n",
       "scheme_management         3877\n",
       "scheme_name              28166\n",
       "permit                    3056\n",
       "construction_year            0\n",
       "extraction_type              0\n",
       "extraction_type_group        0\n",
       "extraction_type_class        0\n",
       "management                   0\n",
       "management_group             0\n",
       "payment                      0\n",
       "payment_type                 0\n",
       "water_quality                0\n",
       "quality_group                0\n",
       "quantity                     0\n",
       "quantity_group               0\n",
       "source                       0\n",
       "source_type                  0\n",
       "source_class                 0\n",
       "waterpoint_type              0\n",
       "waterpoint_type_group        0\n",
       "status_group                 0\n",
       "status_group_vals            0\n",
       "dtype: int64"
      ]
     },
     "execution_count": 14,
     "metadata": {},
     "output_type": "execute_result"
    }
   ],
   "source": [
    "#EDA\n",
    "# Checking Null Values on training data\n",
    "train.apply(lambda x: sum(x.isnull()), axis=0)"
   ]
  },
  {
   "cell_type": "code",
   "execution_count": 15,
   "metadata": {},
   "outputs": [
    {
     "data": {
      "text/html": [
       "<div>\n",
       "<style scoped>\n",
       "    .dataframe tbody tr th:only-of-type {\n",
       "        vertical-align: middle;\n",
       "    }\n",
       "\n",
       "    .dataframe tbody tr th {\n",
       "        vertical-align: top;\n",
       "    }\n",
       "\n",
       "    .dataframe thead th {\n",
       "        text-align: right;\n",
       "    }\n",
       "</style>\n",
       "<table border=\"1\" class=\"dataframe\">\n",
       "  <thead>\n",
       "    <tr style=\"text-align: right;\">\n",
       "      <th></th>\n",
       "      <th></th>\n",
       "      <th>status_group_vals</th>\n",
       "    </tr>\n",
       "    <tr>\n",
       "      <th>funder</th>\n",
       "      <th>status_group</th>\n",
       "      <th></th>\n",
       "    </tr>\n",
       "  </thead>\n",
       "  <tbody>\n",
       "    <tr>\n",
       "      <th rowspan=\"3\" valign=\"top\">danida</th>\n",
       "      <th>functional</th>\n",
       "      <td>1713</td>\n",
       "    </tr>\n",
       "    <tr>\n",
       "      <th>functional needs repair</th>\n",
       "      <td>159</td>\n",
       "    </tr>\n",
       "    <tr>\n",
       "      <th>non functional</th>\n",
       "      <td>1242</td>\n",
       "    </tr>\n",
       "    <tr>\n",
       "      <th rowspan=\"3\" valign=\"top\">government</th>\n",
       "      <th>functional</th>\n",
       "      <td>3720</td>\n",
       "    </tr>\n",
       "    <tr>\n",
       "      <th>functional needs repair</th>\n",
       "      <td>701</td>\n",
       "    </tr>\n",
       "    <tr>\n",
       "      <th>non functional</th>\n",
       "      <td>4663</td>\n",
       "    </tr>\n",
       "    <tr>\n",
       "      <th rowspan=\"3\" valign=\"top\">hesawa</th>\n",
       "      <th>functional</th>\n",
       "      <td>936</td>\n",
       "    </tr>\n",
       "    <tr>\n",
       "      <th>functional needs repair</th>\n",
       "      <td>232</td>\n",
       "    </tr>\n",
       "    <tr>\n",
       "      <th>non functional</th>\n",
       "      <td>1034</td>\n",
       "    </tr>\n",
       "    <tr>\n",
       "      <th rowspan=\"3\" valign=\"top\">other</th>\n",
       "      <th>functional</th>\n",
       "      <td>24540</td>\n",
       "    </tr>\n",
       "    <tr>\n",
       "      <th>functional needs repair</th>\n",
       "      <td>3019</td>\n",
       "    </tr>\n",
       "    <tr>\n",
       "      <th>non functional</th>\n",
       "      <td>14718</td>\n",
       "    </tr>\n",
       "    <tr>\n",
       "      <th rowspan=\"3\" valign=\"top\">rwssp</th>\n",
       "      <th>functional</th>\n",
       "      <td>805</td>\n",
       "    </tr>\n",
       "    <tr>\n",
       "      <th>functional needs repair</th>\n",
       "      <td>109</td>\n",
       "    </tr>\n",
       "    <tr>\n",
       "      <th>non functional</th>\n",
       "      <td>460</td>\n",
       "    </tr>\n",
       "    <tr>\n",
       "      <th rowspan=\"3\" valign=\"top\">world_bank</th>\n",
       "      <th>functional</th>\n",
       "      <td>545</td>\n",
       "    </tr>\n",
       "    <tr>\n",
       "      <th>functional needs repair</th>\n",
       "      <td>97</td>\n",
       "    </tr>\n",
       "    <tr>\n",
       "      <th>non functional</th>\n",
       "      <td>707</td>\n",
       "    </tr>\n",
       "  </tbody>\n",
       "</table>\n",
       "</div>"
      ],
      "text/plain": [
       "                                    status_group_vals\n",
       "funder     status_group                              \n",
       "danida     functional                            1713\n",
       "           functional needs repair                159\n",
       "           non functional                        1242\n",
       "government functional                            3720\n",
       "           functional needs repair                701\n",
       "           non functional                        4663\n",
       "hesawa     functional                             936\n",
       "           functional needs repair                232\n",
       "           non functional                        1034\n",
       "other      functional                           24540\n",
       "           functional needs repair               3019\n",
       "           non functional                       14718\n",
       "rwssp      functional                             805\n",
       "           functional needs repair                109\n",
       "           non functional                         460\n",
       "world_bank functional                             545\n",
       "           functional needs repair                 97\n",
       "           non functional                         707"
      ]
     },
     "execution_count": 15,
     "metadata": {},
     "output_type": "execute_result"
    }
   ],
   "source": [
    "piv_table  = pd.pivot_table(train,index=['funder','status_group'],\n",
    "                           values='status_group_vals', aggfunc='count')\n",
    "piv_table"
   ]
  },
  {
   "cell_type": "code",
   "execution_count": 16,
   "metadata": {},
   "outputs": [
    {
     "data": {
      "text/plain": [
       "Madukani               508\n",
       "Shuleni                506\n",
       "Majengo                502\n",
       "Kati                   373\n",
       "Mtakuja                262\n",
       "Sokoni                 232\n",
       "M                      187\n",
       "Muungano               172\n",
       "Mbuyuni                164\n",
       "Mlimani                152\n",
       "Songambele             147\n",
       "Miembeni               134\n",
       "Msikitini              134\n",
       "1                      132\n",
       "Kibaoni                114\n",
       "Kanisani               111\n",
       "I                      109\n",
       "Mapinduzi              109\n",
       "Mjimwema               108\n",
       "Mjini                  108\n",
       "Mkwajuni               104\n",
       "Mwenge                 102\n",
       "Azimio                  98\n",
       "Mabatini                98\n",
       "Mission                 95\n",
       "Mbugani                 95\n",
       "Bwawani                 91\n",
       "Bondeni                 90\n",
       "Chang'Ombe              88\n",
       "Zahanati                86\n",
       "                      ... \n",
       "Kiguru                   1\n",
       "Majengi Nyatu            1\n",
       "Shiwenga                 1\n",
       "Skimu                    1\n",
       "Sasajira                 1\n",
       "Maumbahi                 1\n",
       "Inteki                   1\n",
       "Ndelama                  1\n",
       "Italaga                  1\n",
       "Tuvene                   1\n",
       "Nyegere                  1\n",
       "Nyampande Center         1\n",
       "Ileza                    1\n",
       "Mahayagha                1\n",
       "Kibupuni                 1\n",
       "Kamanyora                1\n",
       "Mlimani Center           1\n",
       "Ngugunu                  1\n",
       "Isegenhe                 1\n",
       "Matitu                   1\n",
       "Ungindoni Kwa Bwazo      1\n",
       "Mkalendi                 1\n",
       "Mabayini                 1\n",
       "Muzinga B                1\n",
       "Bubata                   1\n",
       "Nyowanga                 1\n",
       "Igunguhi                 1\n",
       "Ishunguru                1\n",
       "Kadida                   1\n",
       "Kisiwani Juu             1\n",
       "Name: subvillage, Length: 19287, dtype: int64"
      ]
     },
     "execution_count": 16,
     "metadata": {},
     "output_type": "execute_result"
    }
   ],
   "source": [
    "#Like funder and installer it is hard to categorize them into 5 or 6 subvillages because values are not dominating \n",
    "#and 19287 unique values are there and the top values are not dominating though\n",
    "\n",
    "train['subvillage'].value_counts()\n",
    "\n",
    "#better to drop this column"
   ]
  },
  {
   "cell_type": "code",
   "execution_count": 17,
   "metadata": {},
   "outputs": [],
   "source": [
    "train=train.drop(['subvillage'],axis=1)\n",
    "test=test.drop(['subvillage'],axis=1)"
   ]
  },
  {
   "cell_type": "code",
   "execution_count": 18,
   "metadata": {},
   "outputs": [
    {
     "data": {
      "text/plain": [
       "True     51011\n",
       "False     5055\n",
       "Name: public_meeting, dtype: int64"
      ]
     },
     "execution_count": 18,
     "metadata": {},
     "output_type": "execute_result"
    }
   ],
   "source": [
    "#public_meeting\n",
    "train['public_meeting'].value_counts()"
   ]
  },
  {
   "cell_type": "code",
   "execution_count": 19,
   "metadata": {},
   "outputs": [],
   "source": [
    "#Since most of the values are True, as of now lets insert True for the missing values. Scope to alter the values in future\n",
    "train.public_meeting = train.public_meeting.fillna('Unknown')\n",
    "test.public_meeting = test.public_meeting.fillna('Unknown')"
   ]
  },
  {
   "cell_type": "code",
   "execution_count": 20,
   "metadata": {},
   "outputs": [
    {
     "data": {
      "text/plain": [
       "VWC                 36793\n",
       "WUG                  5206\n",
       "Water authority      3153\n",
       "WUA                  2883\n",
       "Water Board          2748\n",
       "Parastatal           1680\n",
       "Private operator     1063\n",
       "Company              1061\n",
       "Other                 766\n",
       "SWC                    97\n",
       "Trust                  72\n",
       "None                    1\n",
       "Name: scheme_management, dtype: int64"
      ]
     },
     "execution_count": 20,
     "metadata": {},
     "output_type": "execute_result"
    }
   ],
   "source": [
    "#Scheme Management\n",
    "train['scheme_management'].value_counts()"
   ]
  },
  {
   "cell_type": "code",
   "execution_count": 21,
   "metadata": {},
   "outputs": [],
   "source": [
    "# Create a function to reduce the amount of dummy columns needed whilst maintaining the \n",
    "# information contained in the column.\n",
    "\n",
    "def scheme_wrangler(row):\n",
    "    '''Keep top 5 values and set the rest to 'other'. '''\n",
    "    if row['scheme_management']=='VWC':\n",
    "        return 'vwc'\n",
    "    elif row['scheme_management']=='WUG':\n",
    "        return 'wug'\n",
    "    elif row['scheme_management']=='Water authority':\n",
    "        return 'wtr_auth'\n",
    "    elif row['scheme_management']=='WUA':\n",
    "        return 'wua'\n",
    "    elif row['scheme_management']=='Water Board':\n",
    "        return 'wtr_brd'\n",
    "    else:\n",
    "        return 'other'\n",
    "\n",
    "train['scheme_management'] = train.apply(lambda row: scheme_wrangler(row), axis=1)\n",
    "test['scheme_management'] = test.apply(lambda row: scheme_wrangler(row), axis=1)"
   ]
  },
  {
   "cell_type": "code",
   "execution_count": 22,
   "metadata": {},
   "outputs": [
    {
     "data": {
      "text/plain": [
       "K                                                 682\n",
       "None                                              644\n",
       "Borehole                                          546\n",
       "Chalinze wate                                     405\n",
       "M                                                 400\n",
       "DANIDA                                            379\n",
       "Government                                        320\n",
       "Ngana water supplied scheme                       270\n",
       "wanging'ombe water supply s                       261\n",
       "wanging'ombe supply scheme                        234\n",
       "Bagamoyo wate                                     229\n",
       "I                                                 229\n",
       "Uroki-Bomang'ombe water sup                       209\n",
       "N                                                 204\n",
       "Kirua kahe gravity water supply trust             193\n",
       "Machumba estate pipe line                         185\n",
       "Makwale water supplied sche                       166\n",
       "Kijiji                                            161\n",
       "S                                                 154\n",
       "Losaa-Kia water supply                            152\n",
       "mtwango water supply scheme                       152\n",
       "Handeni Trunk Main(H                              152\n",
       "Mkongoro Two                                      147\n",
       "Roman                                             139\n",
       "Mkongoro One                                      128\n",
       "Maambreni gravity water supply                    125\n",
       "Lyamungo umbwe water supply                       120\n",
       "Kirua kahe pumping water trust                    113\n",
       "Ki                                                107\n",
       "Nabaiye pipe line                                 107\n",
       "                                                 ... \n",
       "Namahimba Water gravity                             1\n",
       "Mumashanda spring source                            1\n",
       "Mwasayi piped water Scheme                          1\n",
       "Kabare gravity water supply mission                 1\n",
       "Nahukahuka Primary School                           1\n",
       "Mfinga Water Supply                                 1\n",
       "Wisu                                                1\n",
       "Mmashanda spring source                             1\n",
       "Kaduma water supply                                 1\n",
       "Matiganjola hydram Scheme                           1\n",
       "Zimba water supply                                  1\n",
       "Jimmy                                               1\n",
       "Kubugege Solar Energy                               1\n",
       "Nyamtukuza Point sources water supplier supply      1\n",
       "Kifaru/kituri                                       1\n",
       "Mradi wa maji wa kipampa                            1\n",
       "Mvaji Ri                                            1\n",
       "New keni Awater supply                              1\n",
       "Windmili system                                     1\n",
       "Dam piped scheme                                    1\n",
       "MRDP                                                1\n",
       "BL Cosmas Woiso                                     1\n",
       "World Bank Water Supply                             1\n",
       "Mradi wa maji wa maji sikonge                       1\n",
       "Marua mshatie water supply                          1\n",
       "Miga                                                1\n",
       "Chalinze Wate                                       1\n",
       "Michee Borehole Scheme                              1\n",
       "Mahunguru                                           1\n",
       "Sui                                                 1\n",
       "Name: scheme_name, Length: 2696, dtype: int64"
      ]
     },
     "execution_count": 22,
     "metadata": {},
     "output_type": "execute_result"
    }
   ],
   "source": [
    "#Scheme name\n",
    "train['scheme_name'].value_counts()"
   ]
  },
  {
   "cell_type": "code",
   "execution_count": 23,
   "metadata": {},
   "outputs": [],
   "source": [
    "len(train.scheme_name.unique())\n",
    "\n",
    "# Lots of factors and the top 5 or so only represent a fraction of the total values. Probably \n",
    "# safe to drop this column.\n",
    "\n",
    "train = train.drop('scheme_name', axis=1)\n",
    "test = test.drop('scheme_name', axis=1)"
   ]
  },
  {
   "cell_type": "code",
   "execution_count": 24,
   "metadata": {},
   "outputs": [
    {
     "data": {
      "text/plain": [
       "True     38852\n",
       "False    17492\n",
       "Name: permit, dtype: int64"
      ]
     },
     "execution_count": 24,
     "metadata": {},
     "output_type": "execute_result"
    }
   ],
   "source": [
    "#permit\n",
    "train['permit'].value_counts()"
   ]
  },
  {
   "cell_type": "code",
   "execution_count": 25,
   "metadata": {},
   "outputs": [],
   "source": [
    "# We only have two values here: true and false. This one can stay but we'll have to replace \n",
    "# the unknown data with a string value.\n",
    "\n",
    "train.permit = train.permit.fillna('Unknown')\n",
    "test.permit = test.permit.fillna('Unknown')"
   ]
  },
  {
   "cell_type": "code",
   "execution_count": 26,
   "metadata": {},
   "outputs": [
    {
     "data": {
      "text/plain": [
       "id                       0\n",
       "amount_tsh               0\n",
       "date_recorded            0\n",
       "funder                   0\n",
       "gps_height               0\n",
       "installer                0\n",
       "longitude                0\n",
       "latitude                 0\n",
       "wpt_name                 0\n",
       "num_private              0\n",
       "basin                    0\n",
       "region                   0\n",
       "region_code              0\n",
       "district_code            0\n",
       "lga                      0\n",
       "ward                     0\n",
       "population               0\n",
       "public_meeting           0\n",
       "recorded_by              0\n",
       "scheme_management        0\n",
       "permit                   0\n",
       "construction_year        0\n",
       "extraction_type          0\n",
       "extraction_type_group    0\n",
       "extraction_type_class    0\n",
       "management               0\n",
       "management_group         0\n",
       "payment                  0\n",
       "payment_type             0\n",
       "water_quality            0\n",
       "quality_group            0\n",
       "quantity                 0\n",
       "quantity_group           0\n",
       "source                   0\n",
       "source_type              0\n",
       "source_class             0\n",
       "waterpoint_type          0\n",
       "waterpoint_type_group    0\n",
       "status_group             0\n",
       "status_group_vals        0\n",
       "dtype: int64"
      ]
     },
     "execution_count": 26,
     "metadata": {},
     "output_type": "execute_result"
    }
   ],
   "source": [
    "#EDA\n",
    "# Checking Null Values on train data\n",
    "train.apply(lambda x: sum(x.isnull()), axis=0)"
   ]
  },
  {
   "cell_type": "code",
   "execution_count": 27,
   "metadata": {},
   "outputs": [],
   "source": [
    "#From the above data, we can say the data is clean for both the training and testing."
   ]
  },
  {
   "cell_type": "code",
   "execution_count": 28,
   "metadata": {},
   "outputs": [
    {
     "data": {
      "text/html": [
       "<div>\n",
       "<style scoped>\n",
       "    .dataframe tbody tr th:only-of-type {\n",
       "        vertical-align: middle;\n",
       "    }\n",
       "\n",
       "    .dataframe tbody tr th {\n",
       "        vertical-align: top;\n",
       "    }\n",
       "\n",
       "    .dataframe thead th {\n",
       "        text-align: right;\n",
       "    }\n",
       "</style>\n",
       "<table border=\"1\" class=\"dataframe\">\n",
       "  <thead>\n",
       "    <tr style=\"text-align: right;\">\n",
       "      <th></th>\n",
       "      <th>id</th>\n",
       "      <th>amount_tsh</th>\n",
       "      <th>gps_height</th>\n",
       "      <th>longitude</th>\n",
       "      <th>latitude</th>\n",
       "      <th>num_private</th>\n",
       "      <th>region_code</th>\n",
       "      <th>district_code</th>\n",
       "      <th>population</th>\n",
       "      <th>construction_year</th>\n",
       "      <th>status_group_vals</th>\n",
       "    </tr>\n",
       "  </thead>\n",
       "  <tbody>\n",
       "    <tr>\n",
       "      <th>id</th>\n",
       "      <td>1.000000</td>\n",
       "      <td>-0.005321</td>\n",
       "      <td>-0.004692</td>\n",
       "      <td>-0.001348</td>\n",
       "      <td>0.001718</td>\n",
       "      <td>-0.002629</td>\n",
       "      <td>-0.003028</td>\n",
       "      <td>-0.003044</td>\n",
       "      <td>-0.002813</td>\n",
       "      <td>-0.002082</td>\n",
       "      <td>0.003354</td>\n",
       "    </tr>\n",
       "    <tr>\n",
       "      <th>amount_tsh</th>\n",
       "      <td>-0.005321</td>\n",
       "      <td>1.000000</td>\n",
       "      <td>0.076650</td>\n",
       "      <td>0.022134</td>\n",
       "      <td>-0.052670</td>\n",
       "      <td>0.002944</td>\n",
       "      <td>-0.026813</td>\n",
       "      <td>-0.023599</td>\n",
       "      <td>0.016288</td>\n",
       "      <td>0.067915</td>\n",
       "      <td>-0.043533</td>\n",
       "    </tr>\n",
       "    <tr>\n",
       "      <th>gps_height</th>\n",
       "      <td>-0.004692</td>\n",
       "      <td>0.076650</td>\n",
       "      <td>1.000000</td>\n",
       "      <td>0.149155</td>\n",
       "      <td>-0.035751</td>\n",
       "      <td>0.007237</td>\n",
       "      <td>-0.183521</td>\n",
       "      <td>-0.171233</td>\n",
       "      <td>0.135003</td>\n",
       "      <td>0.658727</td>\n",
       "      <td>-0.096408</td>\n",
       "    </tr>\n",
       "    <tr>\n",
       "      <th>longitude</th>\n",
       "      <td>-0.001348</td>\n",
       "      <td>0.022134</td>\n",
       "      <td>0.149155</td>\n",
       "      <td>1.000000</td>\n",
       "      <td>-0.425802</td>\n",
       "      <td>0.023873</td>\n",
       "      <td>0.034197</td>\n",
       "      <td>0.151398</td>\n",
       "      <td>0.086590</td>\n",
       "      <td>0.396732</td>\n",
       "      <td>-0.071635</td>\n",
       "    </tr>\n",
       "    <tr>\n",
       "      <th>latitude</th>\n",
       "      <td>0.001718</td>\n",
       "      <td>-0.052670</td>\n",
       "      <td>-0.035751</td>\n",
       "      <td>-0.425802</td>\n",
       "      <td>1.000000</td>\n",
       "      <td>0.006837</td>\n",
       "      <td>-0.221018</td>\n",
       "      <td>-0.201020</td>\n",
       "      <td>-0.022152</td>\n",
       "      <td>-0.245278</td>\n",
       "      <td>0.021020</td>\n",
       "    </tr>\n",
       "    <tr>\n",
       "      <th>num_private</th>\n",
       "      <td>-0.002629</td>\n",
       "      <td>0.002944</td>\n",
       "      <td>0.007237</td>\n",
       "      <td>0.023873</td>\n",
       "      <td>0.006837</td>\n",
       "      <td>1.000000</td>\n",
       "      <td>-0.020377</td>\n",
       "      <td>-0.004478</td>\n",
       "      <td>0.003818</td>\n",
       "      <td>0.026056</td>\n",
       "      <td>-0.006159</td>\n",
       "    </tr>\n",
       "    <tr>\n",
       "      <th>region_code</th>\n",
       "      <td>-0.003028</td>\n",
       "      <td>-0.026813</td>\n",
       "      <td>-0.183521</td>\n",
       "      <td>0.034197</td>\n",
       "      <td>-0.221018</td>\n",
       "      <td>-0.020377</td>\n",
       "      <td>1.000000</td>\n",
       "      <td>0.678602</td>\n",
       "      <td>0.094088</td>\n",
       "      <td>0.031724</td>\n",
       "      <td>0.083590</td>\n",
       "    </tr>\n",
       "    <tr>\n",
       "      <th>district_code</th>\n",
       "      <td>-0.003044</td>\n",
       "      <td>-0.023599</td>\n",
       "      <td>-0.171233</td>\n",
       "      <td>0.151398</td>\n",
       "      <td>-0.201020</td>\n",
       "      <td>-0.004478</td>\n",
       "      <td>0.678602</td>\n",
       "      <td>1.000000</td>\n",
       "      <td>0.061831</td>\n",
       "      <td>0.048315</td>\n",
       "      <td>0.033979</td>\n",
       "    </tr>\n",
       "    <tr>\n",
       "      <th>population</th>\n",
       "      <td>-0.002813</td>\n",
       "      <td>0.016288</td>\n",
       "      <td>0.135003</td>\n",
       "      <td>0.086590</td>\n",
       "      <td>-0.022152</td>\n",
       "      <td>0.003818</td>\n",
       "      <td>0.094088</td>\n",
       "      <td>0.061831</td>\n",
       "      <td>1.000000</td>\n",
       "      <td>0.260910</td>\n",
       "      <td>-0.015198</td>\n",
       "    </tr>\n",
       "    <tr>\n",
       "      <th>construction_year</th>\n",
       "      <td>-0.002082</td>\n",
       "      <td>0.067915</td>\n",
       "      <td>0.658727</td>\n",
       "      <td>0.396732</td>\n",
       "      <td>-0.245278</td>\n",
       "      <td>0.026056</td>\n",
       "      <td>0.031724</td>\n",
       "      <td>0.048315</td>\n",
       "      <td>0.260910</td>\n",
       "      <td>1.000000</td>\n",
       "      <td>-0.056893</td>\n",
       "    </tr>\n",
       "    <tr>\n",
       "      <th>status_group_vals</th>\n",
       "      <td>0.003354</td>\n",
       "      <td>-0.043533</td>\n",
       "      <td>-0.096408</td>\n",
       "      <td>-0.071635</td>\n",
       "      <td>0.021020</td>\n",
       "      <td>-0.006159</td>\n",
       "      <td>0.083590</td>\n",
       "      <td>0.033979</td>\n",
       "      <td>-0.015198</td>\n",
       "      <td>-0.056893</td>\n",
       "      <td>1.000000</td>\n",
       "    </tr>\n",
       "  </tbody>\n",
       "</table>\n",
       "</div>"
      ],
      "text/plain": [
       "                         id  amount_tsh  gps_height  longitude  latitude  \\\n",
       "id                 1.000000   -0.005321   -0.004692  -0.001348  0.001718   \n",
       "amount_tsh        -0.005321    1.000000    0.076650   0.022134 -0.052670   \n",
       "gps_height        -0.004692    0.076650    1.000000   0.149155 -0.035751   \n",
       "longitude         -0.001348    0.022134    0.149155   1.000000 -0.425802   \n",
       "latitude           0.001718   -0.052670   -0.035751  -0.425802  1.000000   \n",
       "num_private       -0.002629    0.002944    0.007237   0.023873  0.006837   \n",
       "region_code       -0.003028   -0.026813   -0.183521   0.034197 -0.221018   \n",
       "district_code     -0.003044   -0.023599   -0.171233   0.151398 -0.201020   \n",
       "population        -0.002813    0.016288    0.135003   0.086590 -0.022152   \n",
       "construction_year -0.002082    0.067915    0.658727   0.396732 -0.245278   \n",
       "status_group_vals  0.003354   -0.043533   -0.096408  -0.071635  0.021020   \n",
       "\n",
       "                   num_private  region_code  district_code  population  \\\n",
       "id                   -0.002629    -0.003028      -0.003044   -0.002813   \n",
       "amount_tsh            0.002944    -0.026813      -0.023599    0.016288   \n",
       "gps_height            0.007237    -0.183521      -0.171233    0.135003   \n",
       "longitude             0.023873     0.034197       0.151398    0.086590   \n",
       "latitude              0.006837    -0.221018      -0.201020   -0.022152   \n",
       "num_private           1.000000    -0.020377      -0.004478    0.003818   \n",
       "region_code          -0.020377     1.000000       0.678602    0.094088   \n",
       "district_code        -0.004478     0.678602       1.000000    0.061831   \n",
       "population            0.003818     0.094088       0.061831    1.000000   \n",
       "construction_year     0.026056     0.031724       0.048315    0.260910   \n",
       "status_group_vals    -0.006159     0.083590       0.033979   -0.015198   \n",
       "\n",
       "                   construction_year  status_group_vals  \n",
       "id                         -0.002082           0.003354  \n",
       "amount_tsh                  0.067915          -0.043533  \n",
       "gps_height                  0.658727          -0.096408  \n",
       "longitude                   0.396732          -0.071635  \n",
       "latitude                   -0.245278           0.021020  \n",
       "num_private                 0.026056          -0.006159  \n",
       "region_code                 0.031724           0.083590  \n",
       "district_code               0.048315           0.033979  \n",
       "population                  0.260910          -0.015198  \n",
       "construction_year           1.000000          -0.056893  \n",
       "status_group_vals          -0.056893           1.000000  "
      ]
     },
     "execution_count": 28,
     "metadata": {},
     "output_type": "execute_result"
    }
   ],
   "source": [
    "#checking the correlation values of training datatest.corr()\n",
    "train.corr()"
   ]
  },
  {
   "cell_type": "code",
   "execution_count": 29,
   "metadata": {},
   "outputs": [
    {
     "data": {
      "text/html": [
       "<div>\n",
       "<style scoped>\n",
       "    .dataframe tbody tr th:only-of-type {\n",
       "        vertical-align: middle;\n",
       "    }\n",
       "\n",
       "    .dataframe tbody tr th {\n",
       "        vertical-align: top;\n",
       "    }\n",
       "\n",
       "    .dataframe thead th {\n",
       "        text-align: right;\n",
       "    }\n",
       "</style>\n",
       "<table border=\"1\" class=\"dataframe\">\n",
       "  <thead>\n",
       "    <tr style=\"text-align: right;\">\n",
       "      <th></th>\n",
       "      <th>id</th>\n",
       "      <th>amount_tsh</th>\n",
       "      <th>gps_height</th>\n",
       "      <th>longitude</th>\n",
       "      <th>latitude</th>\n",
       "      <th>num_private</th>\n",
       "      <th>region_code</th>\n",
       "      <th>district_code</th>\n",
       "      <th>population</th>\n",
       "      <th>construction_year</th>\n",
       "    </tr>\n",
       "  </thead>\n",
       "  <tbody>\n",
       "    <tr>\n",
       "      <th>id</th>\n",
       "      <td>1.000000</td>\n",
       "      <td>-0.016012</td>\n",
       "      <td>0.002711</td>\n",
       "      <td>-0.003331</td>\n",
       "      <td>0.009632</td>\n",
       "      <td>-0.016040</td>\n",
       "      <td>0.002601</td>\n",
       "      <td>-0.000655</td>\n",
       "      <td>-0.016068</td>\n",
       "      <td>-0.004591</td>\n",
       "    </tr>\n",
       "    <tr>\n",
       "      <th>amount_tsh</th>\n",
       "      <td>-0.016012</td>\n",
       "      <td>1.000000</td>\n",
       "      <td>0.096230</td>\n",
       "      <td>0.027709</td>\n",
       "      <td>-0.072210</td>\n",
       "      <td>0.022978</td>\n",
       "      <td>-0.028887</td>\n",
       "      <td>-0.027391</td>\n",
       "      <td>0.028657</td>\n",
       "      <td>0.086236</td>\n",
       "    </tr>\n",
       "    <tr>\n",
       "      <th>gps_height</th>\n",
       "      <td>0.002711</td>\n",
       "      <td>0.096230</td>\n",
       "      <td>1.000000</td>\n",
       "      <td>0.148722</td>\n",
       "      <td>-0.045028</td>\n",
       "      <td>0.013331</td>\n",
       "      <td>-0.177832</td>\n",
       "      <td>-0.169586</td>\n",
       "      <td>0.131994</td>\n",
       "      <td>0.656781</td>\n",
       "    </tr>\n",
       "    <tr>\n",
       "      <th>longitude</th>\n",
       "      <td>-0.003331</td>\n",
       "      <td>0.027709</td>\n",
       "      <td>0.148722</td>\n",
       "      <td>1.000000</td>\n",
       "      <td>-0.430001</td>\n",
       "      <td>0.030979</td>\n",
       "      <td>0.024354</td>\n",
       "      <td>0.148962</td>\n",
       "      <td>0.090862</td>\n",
       "      <td>0.397361</td>\n",
       "    </tr>\n",
       "    <tr>\n",
       "      <th>latitude</th>\n",
       "      <td>0.009632</td>\n",
       "      <td>-0.072210</td>\n",
       "      <td>-0.045028</td>\n",
       "      <td>-0.430001</td>\n",
       "      <td>1.000000</td>\n",
       "      <td>0.002048</td>\n",
       "      <td>-0.203080</td>\n",
       "      <td>-0.196176</td>\n",
       "      <td>-0.024123</td>\n",
       "      <td>-0.256610</td>\n",
       "    </tr>\n",
       "    <tr>\n",
       "      <th>num_private</th>\n",
       "      <td>-0.016040</td>\n",
       "      <td>0.022978</td>\n",
       "      <td>0.013331</td>\n",
       "      <td>0.030979</td>\n",
       "      <td>0.002048</td>\n",
       "      <td>1.000000</td>\n",
       "      <td>-0.028188</td>\n",
       "      <td>-0.010341</td>\n",
       "      <td>0.001517</td>\n",
       "      <td>0.036118</td>\n",
       "    </tr>\n",
       "    <tr>\n",
       "      <th>region_code</th>\n",
       "      <td>0.002601</td>\n",
       "      <td>-0.028887</td>\n",
       "      <td>-0.177832</td>\n",
       "      <td>0.024354</td>\n",
       "      <td>-0.203080</td>\n",
       "      <td>-0.028188</td>\n",
       "      <td>1.000000</td>\n",
       "      <td>0.687910</td>\n",
       "      <td>0.097118</td>\n",
       "      <td>0.029993</td>\n",
       "    </tr>\n",
       "    <tr>\n",
       "      <th>district_code</th>\n",
       "      <td>-0.000655</td>\n",
       "      <td>-0.027391</td>\n",
       "      <td>-0.169586</td>\n",
       "      <td>0.148962</td>\n",
       "      <td>-0.196176</td>\n",
       "      <td>-0.010341</td>\n",
       "      <td>0.687910</td>\n",
       "      <td>1.000000</td>\n",
       "      <td>0.066425</td>\n",
       "      <td>0.046214</td>\n",
       "    </tr>\n",
       "    <tr>\n",
       "      <th>population</th>\n",
       "      <td>-0.016068</td>\n",
       "      <td>0.028657</td>\n",
       "      <td>0.131994</td>\n",
       "      <td>0.090862</td>\n",
       "      <td>-0.024123</td>\n",
       "      <td>0.001517</td>\n",
       "      <td>0.097118</td>\n",
       "      <td>0.066425</td>\n",
       "      <td>1.000000</td>\n",
       "      <td>0.272421</td>\n",
       "    </tr>\n",
       "    <tr>\n",
       "      <th>construction_year</th>\n",
       "      <td>-0.004591</td>\n",
       "      <td>0.086236</td>\n",
       "      <td>0.656781</td>\n",
       "      <td>0.397361</td>\n",
       "      <td>-0.256610</td>\n",
       "      <td>0.036118</td>\n",
       "      <td>0.029993</td>\n",
       "      <td>0.046214</td>\n",
       "      <td>0.272421</td>\n",
       "      <td>1.000000</td>\n",
       "    </tr>\n",
       "  </tbody>\n",
       "</table>\n",
       "</div>"
      ],
      "text/plain": [
       "                         id  amount_tsh  gps_height  longitude  latitude  \\\n",
       "id                 1.000000   -0.016012    0.002711  -0.003331  0.009632   \n",
       "amount_tsh        -0.016012    1.000000    0.096230   0.027709 -0.072210   \n",
       "gps_height         0.002711    0.096230    1.000000   0.148722 -0.045028   \n",
       "longitude         -0.003331    0.027709    0.148722   1.000000 -0.430001   \n",
       "latitude           0.009632   -0.072210   -0.045028  -0.430001  1.000000   \n",
       "num_private       -0.016040    0.022978    0.013331   0.030979  0.002048   \n",
       "region_code        0.002601   -0.028887   -0.177832   0.024354 -0.203080   \n",
       "district_code     -0.000655   -0.027391   -0.169586   0.148962 -0.196176   \n",
       "population        -0.016068    0.028657    0.131994   0.090862 -0.024123   \n",
       "construction_year -0.004591    0.086236    0.656781   0.397361 -0.256610   \n",
       "\n",
       "                   num_private  region_code  district_code  population  \\\n",
       "id                   -0.016040     0.002601      -0.000655   -0.016068   \n",
       "amount_tsh            0.022978    -0.028887      -0.027391    0.028657   \n",
       "gps_height            0.013331    -0.177832      -0.169586    0.131994   \n",
       "longitude             0.030979     0.024354       0.148962    0.090862   \n",
       "latitude              0.002048    -0.203080      -0.196176   -0.024123   \n",
       "num_private           1.000000    -0.028188      -0.010341    0.001517   \n",
       "region_code          -0.028188     1.000000       0.687910    0.097118   \n",
       "district_code        -0.010341     0.687910       1.000000    0.066425   \n",
       "population            0.001517     0.097118       0.066425    1.000000   \n",
       "construction_year     0.036118     0.029993       0.046214    0.272421   \n",
       "\n",
       "                   construction_year  \n",
       "id                         -0.004591  \n",
       "amount_tsh                  0.086236  \n",
       "gps_height                  0.656781  \n",
       "longitude                   0.397361  \n",
       "latitude                   -0.256610  \n",
       "num_private                 0.036118  \n",
       "region_code                 0.029993  \n",
       "district_code               0.046214  \n",
       "population                  0.272421  \n",
       "construction_year           1.000000  "
      ]
     },
     "execution_count": 29,
     "metadata": {},
     "output_type": "execute_result"
    }
   ],
   "source": [
    "#checking the correlation values of testing datatest.corr()\n",
    "test.corr()"
   ]
  },
  {
   "cell_type": "markdown",
   "metadata": {},
   "source": [
    "As we can see, the values are not correlated with each other. That is good for the model"
   ]
  },
  {
   "cell_type": "code",
   "execution_count": 30,
   "metadata": {},
   "outputs": [
    {
     "data": {
      "text/plain": [
       "GeoData Consultants Ltd    59400\n",
       "Name: recorded_by, dtype: int64"
      ]
     },
     "execution_count": 30,
     "metadata": {},
     "output_type": "execute_result"
    }
   ],
   "source": [
    "train['recorded_by'].value_counts()\n",
    "#we can drop this column because all the values in this column are same. There is no point to go forward with this column."
   ]
  },
  {
   "cell_type": "code",
   "execution_count": 31,
   "metadata": {},
   "outputs": [],
   "source": [
    "train=train.drop(['recorded_by'],axis=1)\n",
    "test=test.drop(['recorded_by'],axis=1)"
   ]
  },
  {
   "cell_type": "code",
   "execution_count": 32,
   "metadata": {},
   "outputs": [
    {
     "data": {
      "text/plain": [
       "id                       59400\n",
       "amount_tsh                  98\n",
       "date_recorded              356\n",
       "funder                       6\n",
       "gps_height                2428\n",
       "installer                    6\n",
       "longitude                57516\n",
       "latitude                 57517\n",
       "wpt_name                 37400\n",
       "num_private                 65\n",
       "basin                        9\n",
       "region                      21\n",
       "region_code                 27\n",
       "district_code               20\n",
       "lga                        125\n",
       "ward                      2092\n",
       "population                1049\n",
       "public_meeting               3\n",
       "scheme_management            6\n",
       "permit                       3\n",
       "construction_year           55\n",
       "extraction_type             18\n",
       "extraction_type_group       13\n",
       "extraction_type_class        7\n",
       "management                  12\n",
       "management_group             5\n",
       "payment                      7\n",
       "payment_type                 7\n",
       "water_quality                8\n",
       "quality_group                6\n",
       "quantity                     5\n",
       "quantity_group               5\n",
       "source                      10\n",
       "source_type                  7\n",
       "source_class                 3\n",
       "waterpoint_type              7\n",
       "waterpoint_type_group        6\n",
       "status_group                 3\n",
       "status_group_vals            3\n",
       "dtype: int64"
      ]
     },
     "execution_count": 32,
     "metadata": {},
     "output_type": "execute_result"
    }
   ],
   "source": [
    "train.apply(lambda x: len(x.unique()))"
   ]
  },
  {
   "cell_type": "code",
   "execution_count": 33,
   "metadata": {},
   "outputs": [
    {
     "data": {
      "text/plain": [
       "communal standpipe             28522\n",
       "hand pump                      17488\n",
       "other                           6380\n",
       "communal standpipe multiple     6103\n",
       "improved spring                  784\n",
       "cattle trough                    116\n",
       "dam                                7\n",
       "Name: waterpoint_type, dtype: int64"
      ]
     },
     "execution_count": 33,
     "metadata": {},
     "output_type": "execute_result"
    }
   ],
   "source": [
    "train['waterpoint_type'].value_counts()"
   ]
  },
  {
   "cell_type": "code",
   "execution_count": 34,
   "metadata": {},
   "outputs": [
    {
     "data": {
      "text/plain": [
       "communal standpipe    34625\n",
       "hand pump             17488\n",
       "other                  6380\n",
       "improved spring         784\n",
       "cattle trough           116\n",
       "dam                       7\n",
       "Name: waterpoint_type_group, dtype: int64"
      ]
     },
     "execution_count": 34,
     "metadata": {},
     "output_type": "execute_result"
    }
   ],
   "source": [
    "train['waterpoint_type_group'].value_counts()"
   ]
  },
  {
   "cell_type": "code",
   "execution_count": 35,
   "metadata": {},
   "outputs": [],
   "source": [
    "# waterpoint_type and waterpoint_type_group both are almost similar, communal standpipe and comunal standpipe multiple are merged \n",
    "# together in waterpoint_type_group\n",
    "# we can drop one of them\n",
    "\n",
    "train=train.drop(['waterpoint_type'],axis=1)\n",
    "test=test.drop(['waterpoint_type'],axis=1)"
   ]
  },
  {
   "cell_type": "code",
   "execution_count": 36,
   "metadata": {},
   "outputs": [
    {
     "data": {
      "text/plain": [
       "spring                  17021\n",
       "shallow well            16824\n",
       "machine dbh             11075\n",
       "river                    9612\n",
       "rainwater harvesting     2295\n",
       "hand dtw                  874\n",
       "lake                      765\n",
       "dam                       656\n",
       "other                     212\n",
       "unknown                    66\n",
       "Name: source, dtype: int64"
      ]
     },
     "execution_count": 36,
     "metadata": {},
     "output_type": "execute_result"
    }
   ],
   "source": [
    "# source\n",
    "train['source'].value_counts()"
   ]
  },
  {
   "cell_type": "code",
   "execution_count": 37,
   "metadata": {},
   "outputs": [
    {
     "data": {
      "text/plain": [
       "spring                  17021\n",
       "shallow well            16824\n",
       "borehole                11949\n",
       "river/lake              10377\n",
       "rainwater harvesting     2295\n",
       "dam                       656\n",
       "other                     278\n",
       "Name: source_type, dtype: int64"
      ]
     },
     "execution_count": 37,
     "metadata": {},
     "output_type": "execute_result"
    }
   ],
   "source": [
    "train['source_type'].value_counts()"
   ]
  },
  {
   "cell_type": "code",
   "execution_count": 38,
   "metadata": {},
   "outputs": [
    {
     "data": {
      "text/plain": [
       "groundwater    45794\n",
       "surface        13328\n",
       "unknown          278\n",
       "Name: source_class, dtype: int64"
      ]
     },
     "execution_count": 38,
     "metadata": {},
     "output_type": "execute_result"
    }
   ],
   "source": [
    "train['source_class'].value_counts()"
   ]
  },
  {
   "cell_type": "code",
   "execution_count": 39,
   "metadata": {},
   "outputs": [],
   "source": [
    "#from the above script, we can say the source and source_type are same because in source_type some values are merged together. \n",
    "# we can drop one of the column.\n",
    "\n",
    "train=train.drop(['source'],axis=1)\n",
    "test=test.drop(['source'],axis=1)"
   ]
  },
  {
   "cell_type": "code",
   "execution_count": 40,
   "metadata": {},
   "outputs": [
    {
     "data": {
      "text/plain": [
       "enough          33186\n",
       "insufficient    15129\n",
       "dry              6246\n",
       "seasonal         4050\n",
       "unknown           789\n",
       "Name: quantity, dtype: int64"
      ]
     },
     "execution_count": 40,
     "metadata": {},
     "output_type": "execute_result"
    }
   ],
   "source": [
    "train['quantity'].value_counts()"
   ]
  },
  {
   "cell_type": "code",
   "execution_count": 41,
   "metadata": {},
   "outputs": [
    {
     "data": {
      "text/plain": [
       "enough          33186\n",
       "insufficient    15129\n",
       "dry              6246\n",
       "seasonal         4050\n",
       "unknown           789\n",
       "Name: quantity_group, dtype: int64"
      ]
     },
     "execution_count": 41,
     "metadata": {},
     "output_type": "execute_result"
    }
   ],
   "source": [
    "train['quantity_group'].value_counts()"
   ]
  },
  {
   "cell_type": "code",
   "execution_count": 42,
   "metadata": {},
   "outputs": [],
   "source": [
    "#from the above script, we can say the quantity and quantity_group both are same.\n",
    "# we can drop one of the column.\n",
    "\n",
    "train=train.drop(['quantity'],axis=1)\n",
    "test=test.drop(['quantity'],axis=1)"
   ]
  },
  {
   "cell_type": "code",
   "execution_count": 43,
   "metadata": {},
   "outputs": [
    {
     "data": {
      "text/plain": [
       "soft                  50818\n",
       "salty                  4856\n",
       "unknown                1876\n",
       "milky                   804\n",
       "coloured                490\n",
       "salty abandoned         339\n",
       "fluoride                200\n",
       "fluoride abandoned       17\n",
       "Name: water_quality, dtype: int64"
      ]
     },
     "execution_count": 43,
     "metadata": {},
     "output_type": "execute_result"
    }
   ],
   "source": [
    "train['water_quality'].value_counts()"
   ]
  },
  {
   "cell_type": "code",
   "execution_count": 44,
   "metadata": {},
   "outputs": [
    {
     "data": {
      "text/plain": [
       "good        50818\n",
       "salty        5195\n",
       "unknown      1876\n",
       "milky         804\n",
       "colored       490\n",
       "fluoride      217\n",
       "Name: quality_group, dtype: int64"
      ]
     },
     "execution_count": 44,
     "metadata": {},
     "output_type": "execute_result"
    }
   ],
   "source": [
    "train['quality_group'].value_counts()"
   ]
  },
  {
   "cell_type": "code",
   "execution_count": 45,
   "metadata": {},
   "outputs": [],
   "source": [
    "#water_quality and quality_group are correlated . lets drop one of the column\n",
    "train=train.drop(['quality_group'],axis=1)\n",
    "test=test.drop(['quality_group'],axis=1)"
   ]
  },
  {
   "cell_type": "code",
   "execution_count": 46,
   "metadata": {},
   "outputs": [
    {
     "data": {
      "text/plain": [
       "never pay                25348\n",
       "pay per bucket            8985\n",
       "pay monthly               8300\n",
       "unknown                   8157\n",
       "pay when scheme fails     3914\n",
       "pay annually              3642\n",
       "other                     1054\n",
       "Name: payment, dtype: int64"
      ]
     },
     "execution_count": 46,
     "metadata": {},
     "output_type": "execute_result"
    }
   ],
   "source": [
    "train['payment'].value_counts()"
   ]
  },
  {
   "cell_type": "code",
   "execution_count": 47,
   "metadata": {},
   "outputs": [
    {
     "data": {
      "text/plain": [
       "never pay     25348\n",
       "per bucket     8985\n",
       "monthly        8300\n",
       "unknown        8157\n",
       "on failure     3914\n",
       "annually       3642\n",
       "other          1054\n",
       "Name: payment_type, dtype: int64"
      ]
     },
     "execution_count": 47,
     "metadata": {},
     "output_type": "execute_result"
    }
   ],
   "source": [
    "train['payment_type'].value_counts()"
   ]
  },
  {
   "cell_type": "code",
   "execution_count": 48,
   "metadata": {},
   "outputs": [],
   "source": [
    "#from the above script, we can say the payment and payment_type both are same.\n",
    "# we can drop one of the column.\n",
    "\n",
    "train=train.drop(['payment'],axis=1)\n",
    "test=test.drop(['payment'],axis=1)"
   ]
  },
  {
   "cell_type": "code",
   "execution_count": 49,
   "metadata": {
    "scrolled": true
   },
   "outputs": [
    {
     "data": {
      "text/plain": [
       "vwc                 40507\n",
       "wug                  6515\n",
       "water board          2933\n",
       "wua                  2535\n",
       "private operator     1971\n",
       "parastatal           1768\n",
       "water authority       904\n",
       "other                 844\n",
       "company               685\n",
       "unknown               561\n",
       "other - school         99\n",
       "trust                  78\n",
       "Name: management, dtype: int64"
      ]
     },
     "execution_count": 49,
     "metadata": {},
     "output_type": "execute_result"
    }
   ],
   "source": [
    "train['management'].value_counts()"
   ]
  },
  {
   "cell_type": "code",
   "execution_count": 50,
   "metadata": {},
   "outputs": [
    {
     "data": {
      "text/plain": [
       "user-group    52490\n",
       "commercial     3638\n",
       "parastatal     1768\n",
       "other           943\n",
       "unknown         561\n",
       "Name: management_group, dtype: int64"
      ]
     },
     "execution_count": 50,
     "metadata": {},
     "output_type": "execute_result"
    }
   ],
   "source": [
    "train['management_group'].value_counts()"
   ]
  },
  {
   "cell_type": "code",
   "execution_count": 51,
   "metadata": {},
   "outputs": [],
   "source": [
    "#from the above script, we can say the management and management_group both are same, some values are merged together in management-group.\n",
    "# we can drop one of the column.\n",
    "\n",
    "train=train.drop(['management'],axis=1)\n",
    "test=test.drop(['management'],axis=1)"
   ]
  },
  {
   "cell_type": "code",
   "execution_count": 52,
   "metadata": {},
   "outputs": [
    {
     "data": {
      "text/plain": [
       "gravity                      26780\n",
       "nira/tanira                   8154\n",
       "other                         6430\n",
       "submersible                   4764\n",
       "swn 80                        3670\n",
       "mono                          2865\n",
       "india mark ii                 2400\n",
       "afridev                       1770\n",
       "ksb                           1415\n",
       "other - rope pump              451\n",
       "other - swn 81                 229\n",
       "windmill                       117\n",
       "india mark iii                  98\n",
       "cemo                            90\n",
       "other - play pump               85\n",
       "walimi                          48\n",
       "climax                          32\n",
       "other - mkulima/shinyanga        2\n",
       "Name: extraction_type, dtype: int64"
      ]
     },
     "execution_count": 52,
     "metadata": {},
     "output_type": "execute_result"
    }
   ],
   "source": [
    "train['extraction_type'].value_counts()"
   ]
  },
  {
   "cell_type": "code",
   "execution_count": 53,
   "metadata": {},
   "outputs": [
    {
     "data": {
      "text/plain": [
       "gravity            26780\n",
       "nira/tanira         8154\n",
       "other               6430\n",
       "submersible         6179\n",
       "swn 80              3670\n",
       "mono                2865\n",
       "india mark ii       2400\n",
       "afridev             1770\n",
       "rope pump            451\n",
       "other handpump       364\n",
       "other motorpump      122\n",
       "wind-powered         117\n",
       "india mark iii        98\n",
       "Name: extraction_type_group, dtype: int64"
      ]
     },
     "execution_count": 53,
     "metadata": {},
     "output_type": "execute_result"
    }
   ],
   "source": [
    "train['extraction_type_group'].value_counts()"
   ]
  },
  {
   "cell_type": "code",
   "execution_count": 54,
   "metadata": {},
   "outputs": [
    {
     "data": {
      "text/plain": [
       "gravity         26780\n",
       "handpump        16456\n",
       "other            6430\n",
       "submersible      6179\n",
       "motorpump        2987\n",
       "rope pump         451\n",
       "wind-powered      117\n",
       "Name: extraction_type_class, dtype: int64"
      ]
     },
     "execution_count": 54,
     "metadata": {},
     "output_type": "execute_result"
    }
   ],
   "source": [
    "train['extraction_type_class'].value_counts()"
   ]
  },
  {
   "cell_type": "code",
   "execution_count": 55,
   "metadata": {},
   "outputs": [],
   "source": [
    "#from the above script, we can say the exrtaction_type, extraction_type_group and extraction_type_class are same, some values are merged together.\n",
    "\n",
    "train=train.drop(['extraction_type'],axis=1)\n",
    "test=test.drop(['extraction_type'],axis=1)\n",
    "\n",
    "train=train.drop(['extraction_type_group'],axis=1)\n",
    "test=test.drop(['extraction_type_group'],axis=1)"
   ]
  },
  {
   "cell_type": "code",
   "execution_count": 56,
   "metadata": {},
   "outputs": [],
   "source": [
    "# gps_height, longitude, latitude, region_code and district_code are all geographic info which# gps_he \n",
    "# is unlikely to add any predictive power to the model given that there are other variables\n",
    "# containing geographic data. 'num_private' hasn't been given a discription on Driven Data,\n",
    "# it appears to be superflous. We expect id to not contain any useful information so that gets\n",
    "# dropped too. wpt_name is also not required, it gives only waterpoint name\n",
    "\n",
    "train = train.drop(['gps_height', 'longitude', 'latitude', 'region_code', 'district_code',\n",
    "             'num_private', 'id','wpt_name','lga','region','ward','status_group'], axis=1)\n",
    "\n",
    "test = test.drop(['gps_height', 'longitude', 'latitude', 'region_code', 'district_code',\n",
    "             'num_private', 'id','wpt_name','lga','region','ward'], axis=1)"
   ]
  },
  {
   "cell_type": "code",
   "execution_count": 57,
   "metadata": {},
   "outputs": [],
   "source": [
    "# Turn construction_year into a categorical column containing the following values: '60s', '70s',\n",
    "# '80s', '90s, '00s', '10s', 'unknown'.\n",
    "\n",
    "def construction_wrangler(row):\n",
    "    if row['construction_year'] >= 1960 and row['construction_year'] < 1970:\n",
    "        return '60s'\n",
    "    elif row['construction_year'] >= 1970 and row['construction_year'] < 1980:\n",
    "        return '70s'\n",
    "    elif row['construction_year'] >= 1980 and row['construction_year'] < 1990:\n",
    "        return '80s'\n",
    "    elif row['construction_year'] >= 1990 and row['construction_year'] < 2000:\n",
    "        return '90s'\n",
    "    elif row['construction_year'] >= 2000 and row['construction_year'] < 2010:\n",
    "        return '00s'\n",
    "    elif row['construction_year'] >= 2010:\n",
    "        return '10s'\n",
    "    else:\n",
    "        return 'unknown'\n",
    "    \n",
    "train['construction_year'] = train.apply(lambda row: construction_wrangler(row), axis=1)\n",
    "test['construction_year'] = test.apply(lambda row: construction_wrangler(row), axis=1)"
   ]
  },
  {
   "cell_type": "code",
   "execution_count": 58,
   "metadata": {},
   "outputs": [
    {
     "data": {
      "text/plain": [
       "0       21381\n",
       "1        7025\n",
       "200      1940\n",
       "150      1892\n",
       "250      1681\n",
       "300      1476\n",
       "100      1146\n",
       "50       1139\n",
       "500      1009\n",
       "350       986\n",
       "120       916\n",
       "400       775\n",
       "60        706\n",
       "30        626\n",
       "40        552\n",
       "80        533\n",
       "450       499\n",
       "20        462\n",
       "600       438\n",
       "230       388\n",
       "75        289\n",
       "1000      278\n",
       "800       269\n",
       "90        265\n",
       "130       264\n",
       "25        255\n",
       "320       249\n",
       "35        245\n",
       "360       222\n",
       "140       215\n",
       "        ...  \n",
       "8848        1\n",
       "628         1\n",
       "4520        1\n",
       "468         1\n",
       "693         1\n",
       "725         1\n",
       "789         1\n",
       "821         1\n",
       "5300        1\n",
       "3127        1\n",
       "2345        1\n",
       "3031        1\n",
       "886         1\n",
       "392         1\n",
       "424         1\n",
       "2807        1\n",
       "726         1\n",
       "694         1\n",
       "2569        1\n",
       "4788        1\n",
       "662         1\n",
       "4660        1\n",
       "406         1\n",
       "1032        1\n",
       "1160        1\n",
       "3241        1\n",
       "1960        1\n",
       "1685        1\n",
       "2248        1\n",
       "1439        1\n",
       "Name: population, Length: 1049, dtype: int64"
      ]
     },
     "execution_count": 58,
     "metadata": {},
     "output_type": "execute_result"
    }
   ],
   "source": [
    "train['population'].value_counts()"
   ]
  },
  {
   "cell_type": "code",
   "execution_count": 59,
   "metadata": {},
   "outputs": [],
   "source": [
    "test.date_recorded = pd.datetime(2013, 12, 3) - pd.to_datetime(test.date_recorded)\n",
    "test.columns = ['days_since_recorded' if x=='date_recorded' else x for x in test.columns]\n",
    "test.days_since_recorded = test.days_since_recorded.astype('timedelta64[D]').astype(int)\n",
    "\n",
    "train.date_recorded = pd.datetime(2013, 12, 3) - pd.to_datetime(train.date_recorded)\n",
    "train.columns = ['days_since_recorded' if x=='date_recorded' else x for x in train.columns]\n",
    "train.days_since_recorded = train.days_since_recorded.astype('timedelta64[D]').astype(int)"
   ]
  },
  {
   "cell_type": "code",
   "execution_count": 60,
   "metadata": {},
   "outputs": [
    {
     "data": {
      "text/plain": [
       "amount_tsh                 98\n",
       "days_since_recorded       356\n",
       "funder                      6\n",
       "installer                   6\n",
       "basin                       9\n",
       "population               1049\n",
       "public_meeting              3\n",
       "scheme_management           6\n",
       "permit                      3\n",
       "construction_year           7\n",
       "extraction_type_class       7\n",
       "management_group            5\n",
       "payment_type                7\n",
       "water_quality               8\n",
       "quantity_group              5\n",
       "source_type                 7\n",
       "source_class                3\n",
       "waterpoint_type_group       6\n",
       "status_group_vals           3\n",
       "dtype: int64"
      ]
     },
     "execution_count": 60,
     "metadata": {},
     "output_type": "execute_result"
    }
   ],
   "source": [
    "train.apply(lambda x: len(x.unique()))"
   ]
  },
  {
   "cell_type": "code",
   "execution_count": 61,
   "metadata": {},
   "outputs": [
    {
     "data": {
      "text/plain": [
       "amount_tsh                68\n",
       "days_since_recorded      331\n",
       "funder                     6\n",
       "installer                  6\n",
       "basin                      9\n",
       "population               637\n",
       "public_meeting             3\n",
       "scheme_management          6\n",
       "permit                     3\n",
       "construction_year          7\n",
       "extraction_type_class      7\n",
       "management_group           5\n",
       "payment_type               7\n",
       "water_quality              8\n",
       "quantity_group             5\n",
       "source_type                7\n",
       "source_class               3\n",
       "waterpoint_type_group      6\n",
       "dtype: int64"
      ]
     },
     "execution_count": 61,
     "metadata": {},
     "output_type": "execute_result"
    }
   ],
   "source": [
    "test.apply(lambda x: len(x.unique()))"
   ]
  },
  {
   "cell_type": "code",
   "execution_count": 62,
   "metadata": {},
   "outputs": [
    {
     "data": {
      "text/plain": [
       "(59400, 19)"
      ]
     },
     "execution_count": 62,
     "metadata": {},
     "output_type": "execute_result"
    }
   ],
   "source": [
    "train.shape"
   ]
  },
  {
   "cell_type": "code",
   "execution_count": 63,
   "metadata": {},
   "outputs": [
    {
     "data": {
      "text/plain": [
       "(14850, 18)"
      ]
     },
     "execution_count": 63,
     "metadata": {},
     "output_type": "execute_result"
    }
   ],
   "source": [
    "test.shape"
   ]
  },
  {
   "cell_type": "code",
   "execution_count": 64,
   "metadata": {},
   "outputs": [
    {
     "data": {
      "text/plain": [
       "Index(['amount_tsh', 'days_since_recorded', 'funder', 'installer', 'basin',\n",
       "       'population', 'public_meeting', 'scheme_management', 'permit',\n",
       "       'construction_year', 'extraction_type_class', 'management_group',\n",
       "       'payment_type', 'water_quality', 'quantity_group', 'source_type',\n",
       "       'source_class', 'waterpoint_type_group', 'status_group_vals'],\n",
       "      dtype='object')"
      ]
     },
     "execution_count": 64,
     "metadata": {},
     "output_type": "execute_result"
    }
   ],
   "source": [
    "train.keys()"
   ]
  },
  {
   "cell_type": "code",
   "execution_count": 65,
   "metadata": {},
   "outputs": [
    {
     "data": {
      "text/plain": [
       "Index(['amount_tsh', 'days_since_recorded', 'funder', 'installer', 'basin',\n",
       "       'population', 'public_meeting', 'scheme_management', 'permit',\n",
       "       'construction_year', 'extraction_type_class', 'management_group',\n",
       "       'payment_type', 'water_quality', 'quantity_group', 'source_type',\n",
       "       'source_class', 'waterpoint_type_group'],\n",
       "      dtype='object')"
      ]
     },
     "execution_count": 65,
     "metadata": {},
     "output_type": "execute_result"
    }
   ],
   "source": [
    "test.keys()"
   ]
  },
  {
   "cell_type": "code",
   "execution_count": 66,
   "metadata": {},
   "outputs": [
    {
     "name": "stdout",
     "output_type": "stream",
     "text": [
      "<class 'pandas.core.frame.DataFrame'>\n",
      "Int64Index: 59400 entries, 0 to 59399\n",
      "Data columns (total 19 columns):\n",
      "amount_tsh               59400 non-null float64\n",
      "days_since_recorded      59400 non-null int32\n",
      "funder                   59400 non-null object\n",
      "installer                59400 non-null object\n",
      "basin                    59400 non-null object\n",
      "population               59400 non-null int64\n",
      "public_meeting           59400 non-null object\n",
      "scheme_management        59400 non-null object\n",
      "permit                   59400 non-null object\n",
      "construction_year        59400 non-null object\n",
      "extraction_type_class    59400 non-null object\n",
      "management_group         59400 non-null object\n",
      "payment_type             59400 non-null object\n",
      "water_quality            59400 non-null object\n",
      "quantity_group           59400 non-null object\n",
      "source_type              59400 non-null object\n",
      "source_class             59400 non-null object\n",
      "waterpoint_type_group    59400 non-null object\n",
      "status_group_vals        59400 non-null int64\n",
      "dtypes: float64(1), int32(1), int64(2), object(15)\n",
      "memory usage: 8.8+ MB\n"
     ]
    }
   ],
   "source": [
    "train.info()"
   ]
  },
  {
   "cell_type": "code",
   "execution_count": 67,
   "metadata": {},
   "outputs": [],
   "source": [
    "# Get dummy columns for the categorical columns and shuffle the data.\n",
    "\n",
    "dummy_cols = ['funder', 'installer', 'basin', 'public_meeting', 'scheme_management', 'permit',\n",
    "              'construction_year', 'extraction_type_class','management_group', 'payment_type', 'water_quality',\n",
    "              'quantity_group', 'source_type', 'source_class','waterpoint_type_group']\n",
    "\n",
    "train = pd.get_dummies(train, columns = dummy_cols)\n",
    "\n",
    "train = train.sample(frac=1).reset_index(drop=True)"
   ]
  },
  {
   "cell_type": "code",
   "execution_count": 68,
   "metadata": {},
   "outputs": [],
   "source": [
    "test = pd.get_dummies(test, columns = dummy_cols)"
   ]
  },
  {
   "cell_type": "code",
   "execution_count": 69,
   "metadata": {},
   "outputs": [
    {
     "name": "stdout",
     "output_type": "stream",
     "text": [
      "Shape of training data (59400, 92)\n",
      "Shape of testing data (14850, 91)\n"
     ]
    }
   ],
   "source": [
    "print('Shape of training data',train.shape)\n",
    "print('Shape of testing data',test.shape)"
   ]
  },
  {
   "cell_type": "code",
   "execution_count": 70,
   "metadata": {},
   "outputs": [
    {
     "data": {
      "text/html": [
       "<div>\n",
       "<style scoped>\n",
       "    .dataframe tbody tr th:only-of-type {\n",
       "        vertical-align: middle;\n",
       "    }\n",
       "\n",
       "    .dataframe tbody tr th {\n",
       "        vertical-align: top;\n",
       "    }\n",
       "\n",
       "    .dataframe thead th {\n",
       "        text-align: right;\n",
       "    }\n",
       "</style>\n",
       "<table border=\"1\" class=\"dataframe\">\n",
       "  <thead>\n",
       "    <tr style=\"text-align: right;\">\n",
       "      <th></th>\n",
       "      <th>amount_tsh</th>\n",
       "      <th>days_since_recorded</th>\n",
       "      <th>population</th>\n",
       "      <th>status_group_vals</th>\n",
       "      <th>funder_danida</th>\n",
       "      <th>funder_government</th>\n",
       "      <th>funder_hesawa</th>\n",
       "      <th>funder_other</th>\n",
       "      <th>funder_rwssp</th>\n",
       "      <th>funder_world_bank</th>\n",
       "      <th>...</th>\n",
       "      <th>source_type_spring</th>\n",
       "      <th>source_class_groundwater</th>\n",
       "      <th>source_class_surface</th>\n",
       "      <th>source_class_unknown</th>\n",
       "      <th>waterpoint_type_group_cattle trough</th>\n",
       "      <th>waterpoint_type_group_communal standpipe</th>\n",
       "      <th>waterpoint_type_group_dam</th>\n",
       "      <th>waterpoint_type_group_hand pump</th>\n",
       "      <th>waterpoint_type_group_improved spring</th>\n",
       "      <th>waterpoint_type_group_other</th>\n",
       "    </tr>\n",
       "  </thead>\n",
       "  <tbody>\n",
       "    <tr>\n",
       "      <th>0</th>\n",
       "      <td>200.0</td>\n",
       "      <td>320</td>\n",
       "      <td>1050</td>\n",
       "      <td>1</td>\n",
       "      <td>0</td>\n",
       "      <td>0</td>\n",
       "      <td>0</td>\n",
       "      <td>1</td>\n",
       "      <td>0</td>\n",
       "      <td>0</td>\n",
       "      <td>...</td>\n",
       "      <td>0</td>\n",
       "      <td>1</td>\n",
       "      <td>0</td>\n",
       "      <td>0</td>\n",
       "      <td>0</td>\n",
       "      <td>0</td>\n",
       "      <td>0</td>\n",
       "      <td>1</td>\n",
       "      <td>0</td>\n",
       "      <td>0</td>\n",
       "    </tr>\n",
       "    <tr>\n",
       "      <th>1</th>\n",
       "      <td>500.0</td>\n",
       "      <td>1005</td>\n",
       "      <td>200</td>\n",
       "      <td>0</td>\n",
       "      <td>0</td>\n",
       "      <td>0</td>\n",
       "      <td>0</td>\n",
       "      <td>1</td>\n",
       "      <td>0</td>\n",
       "      <td>0</td>\n",
       "      <td>...</td>\n",
       "      <td>0</td>\n",
       "      <td>1</td>\n",
       "      <td>0</td>\n",
       "      <td>0</td>\n",
       "      <td>0</td>\n",
       "      <td>0</td>\n",
       "      <td>0</td>\n",
       "      <td>1</td>\n",
       "      <td>0</td>\n",
       "      <td>0</td>\n",
       "    </tr>\n",
       "    <tr>\n",
       "      <th>2</th>\n",
       "      <td>0.0</td>\n",
       "      <td>398</td>\n",
       "      <td>0</td>\n",
       "      <td>0</td>\n",
       "      <td>0</td>\n",
       "      <td>0</td>\n",
       "      <td>0</td>\n",
       "      <td>1</td>\n",
       "      <td>0</td>\n",
       "      <td>0</td>\n",
       "      <td>...</td>\n",
       "      <td>0</td>\n",
       "      <td>0</td>\n",
       "      <td>1</td>\n",
       "      <td>0</td>\n",
       "      <td>0</td>\n",
       "      <td>1</td>\n",
       "      <td>0</td>\n",
       "      <td>0</td>\n",
       "      <td>0</td>\n",
       "      <td>0</td>\n",
       "    </tr>\n",
       "    <tr>\n",
       "      <th>3</th>\n",
       "      <td>0.0</td>\n",
       "      <td>1011</td>\n",
       "      <td>1</td>\n",
       "      <td>1</td>\n",
       "      <td>0</td>\n",
       "      <td>0</td>\n",
       "      <td>0</td>\n",
       "      <td>1</td>\n",
       "      <td>0</td>\n",
       "      <td>0</td>\n",
       "      <td>...</td>\n",
       "      <td>0</td>\n",
       "      <td>1</td>\n",
       "      <td>0</td>\n",
       "      <td>0</td>\n",
       "      <td>0</td>\n",
       "      <td>0</td>\n",
       "      <td>0</td>\n",
       "      <td>1</td>\n",
       "      <td>0</td>\n",
       "      <td>0</td>\n",
       "    </tr>\n",
       "    <tr>\n",
       "      <th>4</th>\n",
       "      <td>0.0</td>\n",
       "      <td>868</td>\n",
       "      <td>200</td>\n",
       "      <td>1</td>\n",
       "      <td>0</td>\n",
       "      <td>0</td>\n",
       "      <td>0</td>\n",
       "      <td>1</td>\n",
       "      <td>0</td>\n",
       "      <td>0</td>\n",
       "      <td>...</td>\n",
       "      <td>0</td>\n",
       "      <td>1</td>\n",
       "      <td>0</td>\n",
       "      <td>0</td>\n",
       "      <td>0</td>\n",
       "      <td>0</td>\n",
       "      <td>0</td>\n",
       "      <td>0</td>\n",
       "      <td>0</td>\n",
       "      <td>1</td>\n",
       "    </tr>\n",
       "  </tbody>\n",
       "</table>\n",
       "<p>5 rows × 92 columns</p>\n",
       "</div>"
      ],
      "text/plain": [
       "   amount_tsh  days_since_recorded  population  status_group_vals  \\\n",
       "0       200.0                  320        1050                  1   \n",
       "1       500.0                 1005         200                  0   \n",
       "2         0.0                  398           0                  0   \n",
       "3         0.0                 1011           1                  1   \n",
       "4         0.0                  868         200                  1   \n",
       "\n",
       "   funder_danida  funder_government  funder_hesawa  funder_other  \\\n",
       "0              0                  0              0             1   \n",
       "1              0                  0              0             1   \n",
       "2              0                  0              0             1   \n",
       "3              0                  0              0             1   \n",
       "4              0                  0              0             1   \n",
       "\n",
       "   funder_rwssp  funder_world_bank  ...  source_type_spring  \\\n",
       "0             0                  0  ...                   0   \n",
       "1             0                  0  ...                   0   \n",
       "2             0                  0  ...                   0   \n",
       "3             0                  0  ...                   0   \n",
       "4             0                  0  ...                   0   \n",
       "\n",
       "   source_class_groundwater  source_class_surface  source_class_unknown  \\\n",
       "0                         1                     0                     0   \n",
       "1                         1                     0                     0   \n",
       "2                         0                     1                     0   \n",
       "3                         1                     0                     0   \n",
       "4                         1                     0                     0   \n",
       "\n",
       "   waterpoint_type_group_cattle trough  \\\n",
       "0                                    0   \n",
       "1                                    0   \n",
       "2                                    0   \n",
       "3                                    0   \n",
       "4                                    0   \n",
       "\n",
       "   waterpoint_type_group_communal standpipe  waterpoint_type_group_dam  \\\n",
       "0                                         0                          0   \n",
       "1                                         0                          0   \n",
       "2                                         1                          0   \n",
       "3                                         0                          0   \n",
       "4                                         0                          0   \n",
       "\n",
       "   waterpoint_type_group_hand pump  waterpoint_type_group_improved spring  \\\n",
       "0                                1                                      0   \n",
       "1                                1                                      0   \n",
       "2                                0                                      0   \n",
       "3                                1                                      0   \n",
       "4                                0                                      0   \n",
       "\n",
       "   waterpoint_type_group_other  \n",
       "0                            0  \n",
       "1                            0  \n",
       "2                            0  \n",
       "3                            0  \n",
       "4                            1  \n",
       "\n",
       "[5 rows x 92 columns]"
      ]
     },
     "execution_count": 70,
     "metadata": {},
     "output_type": "execute_result"
    }
   ],
   "source": [
    "train.head()"
   ]
  },
  {
   "cell_type": "code",
   "execution_count": 71,
   "metadata": {},
   "outputs": [
    {
     "data": {
      "text/html": [
       "<div>\n",
       "<style scoped>\n",
       "    .dataframe tbody tr th:only-of-type {\n",
       "        vertical-align: middle;\n",
       "    }\n",
       "\n",
       "    .dataframe tbody tr th {\n",
       "        vertical-align: top;\n",
       "    }\n",
       "\n",
       "    .dataframe thead th {\n",
       "        text-align: right;\n",
       "    }\n",
       "</style>\n",
       "<table border=\"1\" class=\"dataframe\">\n",
       "  <thead>\n",
       "    <tr style=\"text-align: right;\">\n",
       "      <th></th>\n",
       "      <th>amount_tsh</th>\n",
       "      <th>days_since_recorded</th>\n",
       "      <th>population</th>\n",
       "      <th>funder_danida</th>\n",
       "      <th>funder_government</th>\n",
       "      <th>funder_hesawa</th>\n",
       "      <th>funder_other</th>\n",
       "      <th>funder_rwssp</th>\n",
       "      <th>funder_world_bank</th>\n",
       "      <th>installer_commu</th>\n",
       "      <th>...</th>\n",
       "      <th>source_type_spring</th>\n",
       "      <th>source_class_groundwater</th>\n",
       "      <th>source_class_surface</th>\n",
       "      <th>source_class_unknown</th>\n",
       "      <th>waterpoint_type_group_cattle trough</th>\n",
       "      <th>waterpoint_type_group_communal standpipe</th>\n",
       "      <th>waterpoint_type_group_dam</th>\n",
       "      <th>waterpoint_type_group_hand pump</th>\n",
       "      <th>waterpoint_type_group_improved spring</th>\n",
       "      <th>waterpoint_type_group_other</th>\n",
       "    </tr>\n",
       "  </thead>\n",
       "  <tbody>\n",
       "    <tr>\n",
       "      <th>0</th>\n",
       "      <td>0.0</td>\n",
       "      <td>302</td>\n",
       "      <td>321</td>\n",
       "      <td>0</td>\n",
       "      <td>0</td>\n",
       "      <td>0</td>\n",
       "      <td>1</td>\n",
       "      <td>0</td>\n",
       "      <td>0</td>\n",
       "      <td>0</td>\n",
       "      <td>...</td>\n",
       "      <td>0</td>\n",
       "      <td>0</td>\n",
       "      <td>1</td>\n",
       "      <td>0</td>\n",
       "      <td>0</td>\n",
       "      <td>0</td>\n",
       "      <td>0</td>\n",
       "      <td>0</td>\n",
       "      <td>0</td>\n",
       "      <td>1</td>\n",
       "    </tr>\n",
       "    <tr>\n",
       "      <th>1</th>\n",
       "      <td>0.0</td>\n",
       "      <td>302</td>\n",
       "      <td>300</td>\n",
       "      <td>0</td>\n",
       "      <td>1</td>\n",
       "      <td>0</td>\n",
       "      <td>0</td>\n",
       "      <td>0</td>\n",
       "      <td>0</td>\n",
       "      <td>0</td>\n",
       "      <td>...</td>\n",
       "      <td>1</td>\n",
       "      <td>1</td>\n",
       "      <td>0</td>\n",
       "      <td>0</td>\n",
       "      <td>0</td>\n",
       "      <td>1</td>\n",
       "      <td>0</td>\n",
       "      <td>0</td>\n",
       "      <td>0</td>\n",
       "      <td>0</td>\n",
       "    </tr>\n",
       "    <tr>\n",
       "      <th>2</th>\n",
       "      <td>0.0</td>\n",
       "      <td>305</td>\n",
       "      <td>500</td>\n",
       "      <td>0</td>\n",
       "      <td>0</td>\n",
       "      <td>0</td>\n",
       "      <td>1</td>\n",
       "      <td>0</td>\n",
       "      <td>0</td>\n",
       "      <td>0</td>\n",
       "      <td>...</td>\n",
       "      <td>0</td>\n",
       "      <td>0</td>\n",
       "      <td>1</td>\n",
       "      <td>0</td>\n",
       "      <td>0</td>\n",
       "      <td>0</td>\n",
       "      <td>0</td>\n",
       "      <td>0</td>\n",
       "      <td>0</td>\n",
       "      <td>1</td>\n",
       "    </tr>\n",
       "    <tr>\n",
       "      <th>3</th>\n",
       "      <td>0.0</td>\n",
       "      <td>315</td>\n",
       "      <td>250</td>\n",
       "      <td>0</td>\n",
       "      <td>0</td>\n",
       "      <td>0</td>\n",
       "      <td>1</td>\n",
       "      <td>0</td>\n",
       "      <td>0</td>\n",
       "      <td>0</td>\n",
       "      <td>...</td>\n",
       "      <td>0</td>\n",
       "      <td>1</td>\n",
       "      <td>0</td>\n",
       "      <td>0</td>\n",
       "      <td>0</td>\n",
       "      <td>0</td>\n",
       "      <td>0</td>\n",
       "      <td>0</td>\n",
       "      <td>0</td>\n",
       "      <td>1</td>\n",
       "    </tr>\n",
       "    <tr>\n",
       "      <th>4</th>\n",
       "      <td>500.0</td>\n",
       "      <td>251</td>\n",
       "      <td>60</td>\n",
       "      <td>0</td>\n",
       "      <td>0</td>\n",
       "      <td>0</td>\n",
       "      <td>1</td>\n",
       "      <td>0</td>\n",
       "      <td>0</td>\n",
       "      <td>0</td>\n",
       "      <td>...</td>\n",
       "      <td>1</td>\n",
       "      <td>1</td>\n",
       "      <td>0</td>\n",
       "      <td>0</td>\n",
       "      <td>0</td>\n",
       "      <td>1</td>\n",
       "      <td>0</td>\n",
       "      <td>0</td>\n",
       "      <td>0</td>\n",
       "      <td>0</td>\n",
       "    </tr>\n",
       "  </tbody>\n",
       "</table>\n",
       "<p>5 rows × 91 columns</p>\n",
       "</div>"
      ],
      "text/plain": [
       "   amount_tsh  days_since_recorded  population  funder_danida  \\\n",
       "0         0.0                  302         321              0   \n",
       "1         0.0                  302         300              0   \n",
       "2         0.0                  305         500              0   \n",
       "3         0.0                  315         250              0   \n",
       "4       500.0                  251          60              0   \n",
       "\n",
       "   funder_government  funder_hesawa  funder_other  funder_rwssp  \\\n",
       "0                  0              0             1             0   \n",
       "1                  1              0             0             0   \n",
       "2                  0              0             1             0   \n",
       "3                  0              0             1             0   \n",
       "4                  0              0             1             0   \n",
       "\n",
       "   funder_world_bank  installer_commu  ...  source_type_spring  \\\n",
       "0                  0                0  ...                   0   \n",
       "1                  0                0  ...                   1   \n",
       "2                  0                0  ...                   0   \n",
       "3                  0                0  ...                   0   \n",
       "4                  0                0  ...                   1   \n",
       "\n",
       "   source_class_groundwater  source_class_surface  source_class_unknown  \\\n",
       "0                         0                     1                     0   \n",
       "1                         1                     0                     0   \n",
       "2                         0                     1                     0   \n",
       "3                         1                     0                     0   \n",
       "4                         1                     0                     0   \n",
       "\n",
       "   waterpoint_type_group_cattle trough  \\\n",
       "0                                    0   \n",
       "1                                    0   \n",
       "2                                    0   \n",
       "3                                    0   \n",
       "4                                    0   \n",
       "\n",
       "   waterpoint_type_group_communal standpipe  waterpoint_type_group_dam  \\\n",
       "0                                         0                          0   \n",
       "1                                         1                          0   \n",
       "2                                         0                          0   \n",
       "3                                         0                          0   \n",
       "4                                         1                          0   \n",
       "\n",
       "   waterpoint_type_group_hand pump  waterpoint_type_group_improved spring  \\\n",
       "0                                0                                      0   \n",
       "1                                0                                      0   \n",
       "2                                0                                      0   \n",
       "3                                0                                      0   \n",
       "4                                0                                      0   \n",
       "\n",
       "   waterpoint_type_group_other  \n",
       "0                            1  \n",
       "1                            0  \n",
       "2                            1  \n",
       "3                            1  \n",
       "4                            0  \n",
       "\n",
       "[5 rows x 91 columns]"
      ]
     },
     "execution_count": 71,
     "metadata": {},
     "output_type": "execute_result"
    }
   ],
   "source": [
    "test.head()"
   ]
  },
  {
   "cell_type": "code",
   "execution_count": null,
   "metadata": {},
   "outputs": [],
   "source": []
  },
  {
   "cell_type": "code",
   "execution_count": 72,
   "metadata": {},
   "outputs": [],
   "source": [
    "#profiling report of training data\n",
    "#pandas_profiling.ProfileReport(train)\n",
    "\n",
    "#from profiling report, we can drop duplicate rows from the training dataset and also we can see \n",
    "#waterpoint_type_group_hand pump is highly correlated with extraction_type_class_handpump. we can drop any one of the column\n",
    "\n",
    "#train=train.drop_duplicates()\n",
    "\n",
    "train=train.drop(['waterpoint_type_group_hand pump'],axis=1)\n",
    "test=test.drop(['waterpoint_type_group_hand pump'],axis=1)\n",
    "\n",
    "train=train.drop(['source_type_other'],axis=1)\n",
    "test=test.drop(['source_type_other'],axis=1)"
   ]
  },
  {
   "cell_type": "code",
   "execution_count": 73,
   "metadata": {},
   "outputs": [],
   "source": [
    "# Let's split the train set into train and validation sets. Also remove the target.\n",
    "\n",
    "target = train.status_group_vals\n",
    "features = train.drop('status_group_vals', axis=1) "
   ]
  },
  {
   "cell_type": "code",
   "execution_count": 74,
   "metadata": {},
   "outputs": [],
   "source": [
    "X_train=np.array(features)\n",
    "Y_train=keras.utils.to_categorical(np.array(target),num_classes=3) "
   ]
  },
  {
   "cell_type": "code",
   "execution_count": 75,
   "metadata": {},
   "outputs": [
    {
     "data": {
      "text/plain": [
       "array([[0., 1., 0.],\n",
       "       [1., 0., 0.],\n",
       "       [1., 0., 0.],\n",
       "       [0., 1., 0.],\n",
       "       [0., 1., 0.],\n",
       "       [0., 1., 0.],\n",
       "       [1., 0., 0.],\n",
       "       [1., 0., 0.],\n",
       "       [1., 0., 0.],\n",
       "       [1., 0., 0.]], dtype=float32)"
      ]
     },
     "execution_count": 75,
     "metadata": {},
     "output_type": "execute_result"
    }
   ],
   "source": [
    "Y_train[:10,:]"
   ]
  },
  {
   "cell_type": "code",
   "execution_count": null,
   "metadata": {},
   "outputs": [],
   "source": []
  },
  {
   "cell_type": "code",
   "execution_count": 76,
   "metadata": {
    "scrolled": true
   },
   "outputs": [
    {
     "name": "stdout",
     "output_type": "stream",
     "text": [
      "Epoch 1/100\n",
      "59400/59400 [==============================] - 437s 7ms/step - loss: 1.5350 - acc: 0.5810\n",
      "Epoch 2/100\n",
      "59400/59400 [==============================] - 14s 228us/step - loss: 0.7780 - acc: 0.6784\n",
      "Epoch 3/100\n",
      "59400/59400 [==============================] - 13s 225us/step - loss: 0.7409 - acc: 0.7001\n",
      "Epoch 4/100\n",
      "59400/59400 [==============================] - 14s 228us/step - loss: 0.7094 - acc: 0.7101\n",
      "Epoch 5/100\n",
      "59400/59400 [==============================] - 13s 224us/step - loss: 0.6989 - acc: 0.7143\n",
      "Epoch 6/100\n",
      "59400/59400 [==============================] - 13s 217us/step - loss: 0.6962 - acc: 0.7157\n",
      "Epoch 7/100\n",
      "59400/59400 [==============================] - 14s 228us/step - loss: 0.6807 - acc: 0.7191\n",
      "Epoch 8/100\n",
      "59400/59400 [==============================] - 13s 225us/step - loss: 0.6769 - acc: 0.7232\n",
      "Epoch 9/100\n",
      "59400/59400 [==============================] - 14s 229us/step - loss: 0.6660 - acc: 0.7270\n",
      "Epoch 10/100\n",
      "59400/59400 [==============================] - 14s 231us/step - loss: 0.6616 - acc: 0.7274\n",
      "Epoch 11/100\n",
      "59400/59400 [==============================] - 13s 213us/step - loss: 0.6544 - acc: 0.7302\n",
      "Epoch 12/100\n",
      "59400/59400 [==============================] - 13s 224us/step - loss: 0.6522 - acc: 0.7318\n",
      "Epoch 13/100\n",
      "59400/59400 [==============================] - 14s 236us/step - loss: 0.6472 - acc: 0.7335\n",
      "Epoch 14/100\n",
      "59400/59400 [==============================] - 14s 231us/step - loss: 0.6405 - acc: 0.7351\n",
      "Epoch 15/100\n",
      "59400/59400 [==============================] - 13s 226us/step - loss: 0.6415 - acc: 0.7356\n",
      "Epoch 16/100\n",
      "59400/59400 [==============================] - 14s 236us/step - loss: 0.6369 - acc: 0.7369\n",
      "Epoch 17/100\n",
      "59400/59400 [==============================] - 13s 226us/step - loss: 0.6310 - acc: 0.7389\n",
      "Epoch 18/100\n",
      "59400/59400 [==============================] - 14s 230us/step - loss: 0.6305 - acc: 0.7397\n",
      "Epoch 19/100\n",
      "59400/59400 [==============================] - 14s 233us/step - loss: 0.6293 - acc: 0.7393\n",
      "Epoch 20/100\n",
      "59400/59400 [==============================] - 14s 233us/step - loss: 0.6238 - acc: 0.7417\n",
      "Epoch 21/100\n",
      "59400/59400 [==============================] - 13s 222us/step - loss: 0.6219 - acc: 0.7419\n",
      "Epoch 22/100\n",
      "59400/59400 [==============================] - 15s 256us/step - loss: 0.6230 - acc: 0.7437\n",
      "Epoch 23/100\n",
      "59400/59400 [==============================] - 13s 226us/step - loss: 0.6187 - acc: 0.7422\n",
      "Epoch 24/100\n",
      "59400/59400 [==============================] - 13s 223us/step - loss: 0.6159 - acc: 0.7431\n",
      "Epoch 25/100\n",
      "59400/59400 [==============================] - 13s 214us/step - loss: 0.6178 - acc: 0.7426\n",
      "Epoch 26/100\n",
      "59400/59400 [==============================] - 14s 230us/step - loss: 0.6172 - acc: 0.7429\n",
      "Epoch 27/100\n",
      "59400/59400 [==============================] - 14s 233us/step - loss: 0.6100 - acc: 0.7461\n",
      "Epoch 28/100\n",
      "59400/59400 [==============================] - 14s 233us/step - loss: 0.6074 - acc: 0.7478\n",
      "Epoch 29/100\n",
      "59400/59400 [==============================] - 14s 241us/step - loss: 0.6056 - acc: 0.7493\n",
      "Epoch 30/100\n",
      "59400/59400 [==============================] - 15s 251us/step - loss: 0.6055 - acc: 0.7484\n",
      "Epoch 31/100\n",
      "59400/59400 [==============================] - 14s 241us/step - loss: 0.6018 - acc: 0.7497\n",
      "Epoch 32/100\n",
      "59400/59400 [==============================] - 14s 234us/step - loss: 0.6077 - acc: 0.7505\n",
      "Epoch 33/100\n",
      "59400/59400 [==============================] - 14s 228us/step - loss: 0.6022 - acc: 0.7506\n",
      "Epoch 34/100\n",
      "59400/59400 [==============================] - 14s 232us/step - loss: 0.5973 - acc: 0.7517\n",
      "Epoch 35/100\n",
      "59400/59400 [==============================] - 13s 216us/step - loss: 0.5962 - acc: 0.7526\n",
      "Epoch 36/100\n",
      "59400/59400 [==============================] - 13s 227us/step - loss: 0.5957 - acc: 0.7535\n",
      "Epoch 37/100\n",
      "59400/59400 [==============================] - 14s 243us/step - loss: 0.5954 - acc: 0.7536\n",
      "Epoch 38/100\n",
      "59400/59400 [==============================] - 12s 210us/step - loss: 0.5944 - acc: 0.7532\n",
      "Epoch 39/100\n",
      "59400/59400 [==============================] - 13s 212us/step - loss: 0.5895 - acc: 0.7548\n",
      "Epoch 40/100\n",
      "59400/59400 [==============================] - 14s 230us/step - loss: 0.5891 - acc: 0.7547\n",
      "Epoch 41/100\n",
      "59400/59400 [==============================] - 14s 229us/step - loss: 0.5881 - acc: 0.7552\n",
      "Epoch 42/100\n",
      "59400/59400 [==============================] - 13s 227us/step - loss: 0.5880 - acc: 0.7573\n",
      "Epoch 43/100\n",
      "59400/59400 [==============================] - 14s 228us/step - loss: 0.5866 - acc: 0.7566\n",
      "Epoch 44/100\n",
      "59400/59400 [==============================] - 14s 234us/step - loss: 0.5839 - acc: 0.7575\n",
      "Epoch 45/100\n",
      "59400/59400 [==============================] - 14s 228us/step - loss: 0.5833 - acc: 0.7584\n",
      "Epoch 46/100\n",
      "59400/59400 [==============================] - 14s 230us/step - loss: 0.5822 - acc: 0.7588\n",
      "Epoch 47/100\n",
      "59400/59400 [==============================] - 13s 220us/step - loss: 0.5822 - acc: 0.7589\n",
      "Epoch 48/100\n",
      "59400/59400 [==============================] - 12s 207us/step - loss: 0.5781 - acc: 0.7593\n",
      "Epoch 49/100\n",
      "59400/59400 [==============================] - 14s 227us/step - loss: 0.5790 - acc: 0.7606\n",
      "Epoch 50/100\n",
      "59400/59400 [==============================] - 13s 213us/step - loss: 0.5759 - acc: 0.7609\n",
      "Epoch 51/100\n",
      "59400/59400 [==============================] - 13s 215us/step - loss: 0.5751 - acc: 0.7625\n",
      "Epoch 52/100\n",
      "59400/59400 [==============================] - 13s 215us/step - loss: 0.5793 - acc: 0.7603\n",
      "Epoch 53/100\n",
      "59400/59400 [==============================] - 13s 222us/step - loss: 0.5760 - acc: 0.7609\n",
      "Epoch 54/100\n",
      "59400/59400 [==============================] - 14s 228us/step - loss: 0.5715 - acc: 0.7630\n",
      "Epoch 55/100\n",
      "59400/59400 [==============================] - 14s 232us/step - loss: 0.5718 - acc: 0.7619\n",
      "Epoch 56/100\n",
      "59400/59400 [==============================] - 13s 225us/step - loss: 0.5706 - acc: 0.7645\n",
      "Epoch 57/100\n",
      "59400/59400 [==============================] - 14s 232us/step - loss: 0.5712 - acc: 0.7630\n",
      "Epoch 58/100\n",
      "59400/59400 [==============================] - 13s 217us/step - loss: 0.5700 - acc: 0.7635\n",
      "Epoch 59/100\n",
      "59400/59400 [==============================] - 13s 227us/step - loss: 0.5667 - acc: 0.7645\n",
      "Epoch 60/100\n",
      "59400/59400 [==============================] - 13s 224us/step - loss: 0.5652 - acc: 0.7649\n",
      "Epoch 61/100\n",
      "59400/59400 [==============================] - 14s 238us/step - loss: 0.5638 - acc: 0.7652\n",
      "Epoch 62/100\n",
      "59400/59400 [==============================] - 13s 223us/step - loss: 0.5615 - acc: 0.7663\n",
      "Epoch 63/100\n",
      "59400/59400 [==============================] - 14s 231us/step - loss: 0.5623 - acc: 0.7659\n",
      "Epoch 64/100\n",
      "59400/59400 [==============================] - 14s 229us/step - loss: 0.5602 - acc: 0.7682\n",
      "Epoch 65/100\n",
      "59400/59400 [==============================] - 13s 224us/step - loss: 0.5639 - acc: 0.7667\n",
      "Epoch 66/100\n",
      "59400/59400 [==============================] - 13s 215us/step - loss: 0.5627 - acc: 0.7673\n",
      "Epoch 67/100\n",
      "59400/59400 [==============================] - 13s 214us/step - loss: 0.5591 - acc: 0.7680\n",
      "Epoch 68/100\n",
      "59400/59400 [==============================] - 13s 224us/step - loss: 0.5569 - acc: 0.7697\n",
      "Epoch 69/100\n",
      "59400/59400 [==============================] - 13s 217us/step - loss: 0.5579 - acc: 0.7680\n",
      "Epoch 70/100\n",
      "59400/59400 [==============================] - 13s 227us/step - loss: 0.5574 - acc: 0.7691\n",
      "Epoch 71/100\n",
      "59400/59400 [==============================] - 13s 217us/step - loss: 0.5538 - acc: 0.7695\n",
      "Epoch 72/100\n",
      "59400/59400 [==============================] - 14s 228us/step - loss: 0.5519 - acc: 0.7714\n",
      "Epoch 73/100\n",
      "59400/59400 [==============================] - 13s 222us/step - loss: 0.5565 - acc: 0.7692\n",
      "Epoch 74/100\n",
      "59400/59400 [==============================] - 14s 227us/step - loss: 0.5528 - acc: 0.7692\n",
      "Epoch 75/100\n",
      "59400/59400 [==============================] - 13s 221us/step - loss: 0.5639 - acc: 0.7670\n",
      "Epoch 76/100\n",
      "59400/59400 [==============================] - 13s 220us/step - loss: 0.5607 - acc: 0.7696\n",
      "Epoch 77/100\n",
      "59400/59400 [==============================] - 13s 216us/step - loss: 0.5505 - acc: 0.7718\n",
      "Epoch 78/100\n",
      "59400/59400 [==============================] - 13s 216us/step - loss: 0.5488 - acc: 0.7716\n",
      "Epoch 79/100\n",
      "59400/59400 [==============================] - 13s 224us/step - loss: 0.5459 - acc: 0.7726\n",
      "Epoch 80/100\n",
      "59400/59400 [==============================] - 13s 212us/step - loss: 0.5474 - acc: 0.7727\n",
      "Epoch 81/100\n",
      "59400/59400 [==============================] - 13s 219us/step - loss: 0.5459 - acc: 0.7731\n",
      "Epoch 82/100\n",
      "59400/59400 [==============================] - 14s 229us/step - loss: 0.5550 - acc: 0.7711\n",
      "Epoch 83/100\n",
      "59400/59400 [==============================] - 14s 229us/step - loss: 0.5449 - acc: 0.7742\n",
      "Epoch 84/100\n",
      "59400/59400 [==============================] - 14s 230us/step - loss: 0.5442 - acc: 0.7748\n",
      "Epoch 85/100\n",
      "59400/59400 [==============================] - 14s 227us/step - loss: 0.5458 - acc: 0.7743\n",
      "Epoch 86/100\n",
      "59400/59400 [==============================] - 13s 222us/step - loss: 0.5438 - acc: 0.7739\n",
      "Epoch 87/100\n",
      "59400/59400 [==============================] - 14s 236us/step - loss: 0.5394 - acc: 0.7755\n",
      "Epoch 88/100\n",
      "59400/59400 [==============================] - 13s 218us/step - loss: 0.5413 - acc: 0.7757\n",
      "Epoch 89/100\n",
      "59400/59400 [==============================] - 13s 223us/step - loss: 0.5387 - acc: 0.7767\n",
      "Epoch 90/100\n",
      "59400/59400 [==============================] - 14s 233us/step - loss: 0.5378 - acc: 0.7754\n",
      "Epoch 91/100\n",
      "59400/59400 [==============================] - 14s 234us/step - loss: 0.5360 - acc: 0.7775\n",
      "Epoch 92/100\n",
      "59400/59400 [==============================] - 13s 226us/step - loss: 0.5360 - acc: 0.7774\n",
      "Epoch 93/100\n",
      "59400/59400 [==============================] - 13s 222us/step - loss: 0.5358 - acc: 0.7767\n",
      "Epoch 94/100\n",
      "59400/59400 [==============================] - 14s 238us/step - loss: 0.5365 - acc: 0.7778\n",
      "Epoch 95/100\n",
      "59400/59400 [==============================] - 14s 230us/step - loss: 0.5352 - acc: 0.7776\n",
      "Epoch 96/100\n",
      "59400/59400 [==============================] - 15s 249us/step - loss: 0.5402 - acc: 0.7747\n",
      "Epoch 97/100\n",
      "59400/59400 [==============================] - 15s 246us/step - loss: 0.5326 - acc: 0.7790\n",
      "Epoch 98/100\n",
      "59400/59400 [==============================] - 14s 241us/step - loss: 0.5408 - acc: 0.7762\n",
      "Epoch 99/100\n",
      "59400/59400 [==============================] - 12s 207us/step - loss: 0.5397 - acc: 0.7765\n",
      "Epoch 100/100\n",
      "59400/59400 [==============================] - 12s 209us/step - loss: 0.5371 - acc: 0.7773\n"
     ]
    },
    {
     "data": {
      "text/plain": [
       "<keras.callbacks.History at 0x29400456550>"
      ]
     },
     "execution_count": 76,
     "metadata": {},
     "output_type": "execute_result"
    }
   ],
   "source": [
    "model = models.Sequential()\n",
    "model.add(Dense(120, input_dim=89, activation='relu'))\n",
    "#model.add(Dropout(0.5))\n",
    "model.add(Dense(140, activation='relu'))\n",
    "model.add(Dense(150, activation='relu'))\n",
    "model.add(Dense(90, activation='relu'))\n",
    "model.add(Dense(80, activation='relu'))\n",
    "model.add(Dense(75, activation='relu'))\n",
    "model.add(Dense(40, activation='relu'))\n",
    "model.add(Dense(20, activation='relu'))\n",
    "model.add(Dense(10, activation='relu'))\n",
    "#model.add(Dropout(0.5))\n",
    "model.add(Dense(3, activation='softmax'))\n",
    "\n",
    "model.compile(loss='categorical_crossentropy',optimizer='adam',metrics=['accuracy'])\n",
    "\n",
    "model.fit(x_train, y_train, batch_size=64,epochs=100, verbose=1, validation_split=0.2, shuffle=True)"
   ]
  },
  {
   "cell_type": "code",
   "execution_count": 77,
   "metadata": {},
   "outputs": [],
   "source": [
    "test_id = pd.DataFrame\n",
    "test_id=test_copy['id']"
   ]
  },
  {
   "cell_type": "code",
   "execution_count": 78,
   "metadata": {},
   "outputs": [],
   "source": [
    "test1=np.array(test)"
   ]
  },
  {
   "cell_type": "code",
   "execution_count": 79,
   "metadata": {},
   "outputs": [],
   "source": [
    "prediction =model.predict_classes(test1)"
   ]
  },
  {
   "cell_type": "code",
   "execution_count": 80,
   "metadata": {},
   "outputs": [],
   "source": [
    "data = {'ID': test_id, 'status_group': prediction}\n",
    "submit = pd.DataFrame(data=data)\n",
    "\n",
    "vals_to_replace = {0:'functional', 2:'functional needs repair',1:'non functional'}\n",
    "\n",
    "submit.status_group = submit.status_group.replace(vals_to_replace)        \n",
    "submit.to_csv('Submission_file_dnn.csv', index=False)"
   ]
  },
  {
   "cell_type": "code",
   "execution_count": 81,
   "metadata": {},
   "outputs": [],
   "source": [
    "result = pd.read_csv('Submission_file_dnn.csv')"
   ]
  },
  {
   "cell_type": "code",
   "execution_count": 82,
   "metadata": {},
   "outputs": [
    {
     "data": {
      "text/plain": [
       "functional                 9516\n",
       "non functional             5090\n",
       "functional needs repair     244\n",
       "Name: status_group, dtype: int64"
      ]
     },
     "execution_count": 82,
     "metadata": {},
     "output_type": "execute_result"
    }
   ],
   "source": [
    "result['status_group'].value_counts()"
   ]
  },
  {
   "cell_type": "code",
   "execution_count": null,
   "metadata": {},
   "outputs": [],
   "source": []
  },
  {
   "cell_type": "code",
   "execution_count": null,
   "metadata": {},
   "outputs": [],
   "source": []
  }
 ],
 "metadata": {
  "kernelspec": {
   "display_name": "Python 3",
   "language": "python",
   "name": "python3"
  },
  "language_info": {
   "codemirror_mode": {
    "name": "ipython",
    "version": 3
   },
   "file_extension": ".py",
   "mimetype": "text/x-python",
   "name": "python",
   "nbconvert_exporter": "python",
   "pygments_lexer": "ipython3",
   "version": "3.6.4"
  }
 },
 "nbformat": 4,
 "nbformat_minor": 2
}
